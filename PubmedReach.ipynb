{
 "cells": [
  {
   "cell_type": "markdown",
   "metadata": {},
   "source": [
    "# Quick Start for Reading and Assembling Contextual and Holistic Mechanisms from Text"
   ]
  },
  {
   "cell_type": "markdown",
   "metadata": {},
   "source": [
    "# Part-1 : Download open-access pubmed PMCIds"
   ]
  },
  {
   "cell_type": "markdown",
   "metadata": {},
   "source": [
    "log in to Atmosphere and launch medium2 instance\n",
    "\n",
    "`large2 (CPU: 8, Mem: 48 GB, Disk: 320 GB root)`\n",
    "\n",
    "based on `Ubuntu 18.04 GUI XFCE Base v4.0`"
   ]
  },
  {
   "cell_type": "markdown",
   "metadata": {},
   "source": [
    "ssh cyverse-username@128.196.142.X"
   ]
  },
  {
   "cell_type": "markdown",
   "metadata": {},
   "source": [
    "cd /scratch"
   ]
  },
  {
   "cell_type": "markdown",
   "metadata": {},
   "source": [
    "Install `java8` `scala-2.12` `sbt-1.4`"
   ]
  },
  {
   "cell_type": "markdown",
   "metadata": {},
   "source": [
    "sudo add-apt-repository -y ppa:openjdk-r/ppa\n",
    "echo \"deb https://dl.bintray.com/sbt/debian /\" | tee -a /etc/apt/sources.list.d/sbt.list &&     apt-key adv --keyserver hkp://keyserver.ubuntu.com:80 --recv 2EE0EA64E40A89B84B2DF73499E82A75642AC823\n",
    "sudo apt-get update\n",
    "sudo apt-get install -y openjdk-8-jdk\n",
    "sudo apt-get install -y sbt=1.4.0"
   ]
  },
  {
   "cell_type": "markdown",
   "metadata": {},
   "source": [
    "log in to Atmosphere and launch medium2 instance"
   ]
  },
  {
   "cell_type": "markdown",
   "metadata": {},
   "source": [
    "git clone reach repo"
   ]
  },
  {
   "cell_type": "code",
   "execution_count": null,
   "metadata": {},
   "outputs": [],
   "source": [
    "git clone https://github.com/clulab/reach.git\n",
    "cd reach    "
   ]
  },
  {
   "cell_type": "markdown",
   "metadata": {},
   "source": [
    "modify application.conf with rootdir path & threads"
   ]
  },
  {
   "cell_type": "markdown",
   "metadata": {},
   "source": [
    "`nano main/src/main/resources/application.conf`"
   ]
  },
  {
   "cell_type": "code",
   "execution_count": null,
   "metadata": {},
   "outputs": [],
   "source": [
    "rootDir = /home/sateeshp/reach-pubmed\n",
    "\n",
    "threadLimit = 96"
   ]
  },
  {
   "cell_type": "markdown",
   "metadata": {},
   "source": [
    "Make papers folder in the reach directory & copy some nxml's into it"
   ]
  },
  {
   "cell_type": "code",
   "execution_count": null,
   "metadata": {},
   "outputs": [],
   "source": [
    "nano .sbtopts"
   ]
  },
  {
   "cell_type": "code",
   "execution_count": null,
   "metadata": {},
   "outputs": [],
   "source": [
    "change mem as per resources\n",
    "124GB"
   ]
  },
  {
   "cell_type": "code",
   "execution_count": null,
   "metadata": {},
   "outputs": [],
   "source": [
    "sbt assembly"
   ]
  },
  {
   "cell_type": "code",
   "execution_count": null,
   "metadata": {},
   "outputs": [],
   "source": [
    "[info] welcome to sbt 1.4.0 (Private Build Java 1.8.0_275)\n",
    "[info] loading settings for project reach-build from plugins.sbt ...\n",
    "[info] loading project definition from /scratch/reach/project\n",
    "[info] loading settings for project root from build.sbt,version.sbt ...\n",
    "[info] loading settings for project processors from build.sbt ...\n",
    "[info] loading settings for project main from build.sbt ...\n",
    "[info] loading settings for project export from build.sbt ...\n",
    "[info] set current project to reach-exe (in build file:/scratch/reach/)\n",
    "[warn] there's a key that's not used by any other settings/tasks:\n",
    "[warn]  \n",
    "[warn] * root / releaseProcess\n",
    "[warn]   +- /scratch/reach/build.sbt:105\n",
    "[warn]  \n",
    "[warn] note: a setting might still be used by a command; to exclude a key from this `lintUnused` check\n",
    "[warn] either append it to `Global / excludeLintKeys` or call .withRank(KeyRanks.Invisible) on the key\n",
    "[info] Strategy 'concat' was applied to a file (Run the task at debug level to see details)\n",
    "[info] Strategy 'deduplicate' was applied to 139 files (Run the task at debug level to see details)\n",
    "[info] Strategy 'discard' was applied to 65 files (Run the task at debug level to see details)\n",
    "[info] Strategy 'filterDistinctLines' was applied to 2 files (Run the task at debug level to see details)\n",
    "[success] Total time: 317 s (05:17), completed Nov 29, 2020 10:24:17 AM"
   ]
  },
  {
   "cell_type": "code",
   "execution_count": null,
   "metadata": {},
   "outputs": [],
   "source": [
    "ls -lh target/scala-2.12/"
   ]
  },
  {
   "cell_type": "code",
   "execution_count": null,
   "metadata": {},
   "outputs": [],
   "source": [
    "total 1.8G\n",
    "drwxr-xr-x 3 sateeshp iplant-everyone 4.0K Nov  8 13:04 classes\n",
    "drwxr-xr-x 3 sateeshp iplant-everyone 4.0K Nov 28 11:19 project\n",
    "-rw-r--r-- 1 sateeshp iplant-everyone 1.8G Nov 29 10:24 reach-1.6.2-SNAPSHOT-FAT.jar"
   ]
  },
  {
   "cell_type": "markdown",
   "metadata": {},
   "source": [
    "Upload FAT jar to cyverse datastore"
   ]
  },
  {
   "cell_type": "code",
   "execution_count": null,
   "metadata": {},
   "outputs": [],
   "source": [
    "imkdir reach_pumed\n",
    "icd reach_pumed\n",
    "iput -K reach-1.6.3-SNAPSHOT-FAT_gpu06.jar"
   ]
  },
  {
   "cell_type": "markdown",
   "metadata": {},
   "source": []
  },
  {
   "cell_type": "markdown",
   "metadata": {},
   "source": []
  }
 ],
 "metadata": {
  "kernelspec": {
   "display_name": "Python 3",
   "language": "python",
   "name": "python3"
  },
  "language_info": {
   "codemirror_mode": {
    "name": "ipython",
    "version": 3
   },
   "file_extension": ".py",
   "mimetype": "text/x-python",
   "name": "python",
   "nbconvert_exporter": "python",
   "pygments_lexer": "ipython3",
   "version": "3.8.5"
  }
 },
 "nbformat": 4,
 "nbformat_minor": 4
}
