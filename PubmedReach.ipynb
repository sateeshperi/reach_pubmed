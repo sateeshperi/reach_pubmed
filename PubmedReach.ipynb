{
 "cells": [
  {
   "cell_type": "markdown",
   "metadata": {},
   "source": [
    "# Reading and Assembling Contextual and Holistic Mechanisms from Text"
   ]
  },
  {
   "cell_type": "markdown",
   "metadata": {},
   "source": [
    "11/28/2020"
   ]
  },
  {
   "cell_type": "markdown",
   "metadata": {},
   "source": [
    "Running reach on 17474 papers from 2020"
   ]
  },
  {
   "cell_type": "markdown",
   "metadata": {},
   "source": []
  },
  {
   "cell_type": "markdown",
   "metadata": {},
   "source": [
    "# Part-1 : Download open-access pubmed PMCIds"
   ]
  },
  {
   "cell_type": "markdown",
   "metadata": {},
   "source": [
    "[Open Access Pubmed FTP site](https://www.ncbi.nlm.nih.gov/pmc/tools/ftp/#index_files)"
   ]
  },
  {
   "cell_type": "markdown",
   "metadata": {},
   "source": [
    "Under the section \"Index Files for the PMC Open Access Subset\" -> Download the file `oa_file_list.txt`"
   ]
  },
  {
   "cell_type": "markdown",
   "metadata": {},
   "source": [
    "The `oa_file_list.txt` is divided into 5 fields, delimited by tab characters\n",
    "\n",
    "```oa_package/66/8b/PMC555938.tar.gz\tBMC Bioinformatics. 2005 Mar 7; 6:44\tPMC555938\tPMID:15748298\tCC BY```"
   ]
  },
  {
   "cell_type": "markdown",
   "metadata": {},
   "source": [
    "Subset the papers published in 2020\n",
    "\n",
    "`grep \". 2020\" oa_file_list.txt > 2020_papers.txt`"
   ]
  },
  {
   "cell_type": "markdown",
   "metadata": {},
   "source": [
    "Extract PMC Ids\n",
    "\n",
    "`cut -f 3 2020_papers.txt > 2020_pmcids.txt`"
   ]
  },
  {
   "cell_type": "markdown",
   "metadata": {},
   "source": [
    "Count the number of papers in the subset\n",
    "\n",
    "`wc -l 2020_pmcids.txt`"
   ]
  },
  {
   "cell_type": "markdown",
   "metadata": {},
   "source": [
    "17474"
   ]
  },
  {
   "cell_type": "markdown",
   "metadata": {},
   "source": [
    "# Part-2 : Fetch `nxml` version of PMCIds"
   ]
  },
  {
   "cell_type": "markdown",
   "metadata": {},
   "source": [
    "Nearly all of the papers in the Open Access subset of PubMed can be retrieved as `.nxml`. We will use a python script to retrieve the papers"
   ]
  },
  {
   "cell_type": "markdown",
   "metadata": {},
   "source": [
    "wget https://gist.githubusercontent.com/myedibleenso/f233359445461a71ad37017393fe921f/raw/982275ad8d5070e8c0bc5c07edcfec1cd804c611/fetch_nxml.py"
   ]
  },
  {
   "cell_type": "markdown",
   "metadata": {},
   "source": [
    "### Sample Usage\n",
    "python fetch_nxml.py --pmcids PMC1234 PMC1235"
   ]
  },
  {
   "cell_type": "markdown",
   "metadata": {},
   "source": [
    "### UNIX for-loop to download papers\n",
    "`for i in $(cat 2020_pmcids.txt); do python fetch_nxml.py --pmcids $i; done`"
   ]
  },
  {
   "cell_type": "markdown",
   "metadata": {},
   "source": []
  },
  {
   "cell_type": "markdown",
   "metadata": {},
   "source": [
    "# Part-3 : REACH on Atmosphere VM"
   ]
  },
  {
   "cell_type": "markdown",
   "metadata": {},
   "source": [
    "log in to Atmosphere and launch medium2 instance\n",
    "\n",
    "`large2 (CPU: 8, Mem: 48 GB, Disk: 320 GB root)`\n",
    "\n",
    "based on `Ubuntu 18.04 GUI XFCE Base v4.0`"
   ]
  },
  {
   "cell_type": "markdown",
   "metadata": {},
   "source": [
    "Install `java8` `scala-2.12` `sbt-1.4`"
   ]
  },
  {
   "cell_type": "code",
   "execution_count": null,
   "metadata": {},
   "outputs": [],
   "source": [
    "   72  add-apt-repository -y ppa:openjdk-r/ppa\n",
    "   73  sudo add-apt-repository -y ppa:openjdk-r/ppa\n",
    "   74  echo \"deb https://dl.bintray.com/sbt/debian /\" | tee -a /etc/apt/sources.list.d/sbt.list &&     apt-key adv --keyserver hkp://keyserver.ubuntu.com:80 --recv 2EE0EA64E40A89B84B2DF73499E82A75642AC823\n",
    "   75  sudo echo \"deb https://dl.bintray.com/sbt/debian /\" | tee -a /etc/apt/sources.list.d/sbt.list &&     apt-key adv --keyserver hkp://keyserver.ubuntu.com:80 --recv 2EE0EA64E40A89B84B2DF73499E82A75642AC823\n",
    "   76  sudo echo \"deb https://dl.bintray.com/sbt/debian /\" | tee -a /etc/apt/sources.list.d/sbt.list\n",
    "   77  echo \"deb https://dl.bintray.com/sbt/debian /\" | sudo tee -a /etc/apt/sources.list.d/sbt.list\n",
    "   78  sudo apt-get update\n",
    "   79  sudo apt-get install -y openjdk-8-jdk\n",
    "   80  wget -nv https://www.scala-lang.org/files/archive/scala-2.12.8.deb\n",
    "   81  ls\n",
    "   82  dpkg -i scala-2.12.8.deb\n",
    "   83  sudo dpkg -i scala-2.12.8.deb\n",
    "   84  rm scala-2.12.8.deb \n",
    "   85  sudo apt-get install -y sbt=1.4.0\n",
    "   86  sudo apt-key adv --keyserver hkp://keyserver.ubuntu.com:80 --recv 2EE0EA64E40A89B84B2DF73499E82A75642AC823\n",
    "   87  sudo apt-get install -y sbt=1.4.0\n",
    "   88  sudo apt-get update\n",
    "   89  sudo apt-get install -y sbt=1.4.0"
   ]
  },
  {
   "cell_type": "code",
   "execution_count": null,
   "metadata": {},
   "outputs": [],
   "source": [
    "cd /scratch"
   ]
  },
  {
   "cell_type": "markdown",
   "metadata": {},
   "source": [
    "git clone reach repo"
   ]
  },
  {
   "cell_type": "code",
   "execution_count": null,
   "metadata": {},
   "outputs": [],
   "source": [
    "git clone https://github.com/clulab/reach.git\n",
    "cd reach    "
   ]
  },
  {
   "cell_type": "markdown",
   "metadata": {},
   "source": [
    "modify application.conf with rootdir path & threads"
   ]
  },
  {
   "cell_type": "markdown",
   "metadata": {},
   "source": [
    "`nano main/src/main/resources/application.conf`"
   ]
  },
  {
   "cell_type": "code",
   "execution_count": null,
   "metadata": {},
   "outputs": [],
   "source": [
    "rootDir = /scratch/reach\n",
    "\n",
    "threadLimit = 21"
   ]
  },
  {
   "cell_type": "markdown",
   "metadata": {},
   "source": [
    "Make papers folder in the reach directory & copy some nxml's into it"
   ]
  },
  {
   "cell_type": "code",
   "execution_count": null,
   "metadata": {},
   "outputs": [],
   "source": [
    "mkdir papers"
   ]
  },
  {
   "cell_type": "code",
   "execution_count": null,
   "metadata": {},
   "outputs": [],
   "source": [
    "java -version\n",
    "openjdk version \"1.8.0_275\"\n",
    "OpenJDK Runtime Environment (build 1.8.0_275-8u275-b01-0ubuntu1~18.04-b01)\n",
    "OpenJDK 64-Bit Server VM (build 25.275-b01, mixed mode)"
   ]
  },
  {
   "cell_type": "code",
   "execution_count": null,
   "metadata": {},
   "outputs": [],
   "source": [
    "sbt sbtVersion\n",
    "[info] welcome to sbt 1.4.0 (Private Build Java 1.8.0_275)\n",
    "[info] loading settings for project reach-build from plugins.sbt ...\n",
    "[info] loading project definition from /scratch/reach/project\n",
    "[info] loading settings for project root from build.sbt,version.sbt ...\n",
    "[info] loading settings for project processors from build.sbt ...\n",
    "[info] loading settings for project main from build.sbt ...\n",
    "[info] loading settings for project export from build.sbt ...\n",
    "[info] set current project to reach-exe (in build file:/scratch/reach/)\n",
    "[warn] there's a key that's not used by any other settings/tasks:\n",
    "[warn]  \n",
    "[warn] * root / releaseProcess\n",
    "[warn]   +- /scratch/reach/build.sbt:105\n",
    "[warn]  \n",
    "[warn] note: a setting might still be used by a command; to exclude a key from this `lintUnused` check\n",
    "[warn] either append it to `Global / excludeLintKeys` or call .withRank(KeyRanks.Invisible) on the key\n",
    "[info] main / sbtVersion\n",
    "[info] \t1.4.0\n",
    "[info] export / sbtVersion\n",
    "[info] \t1.4.0\n",
    "[info] sbtVersion\n",
    "[info] \t1.4.0"
   ]
  },
  {
   "cell_type": "code",
   "execution_count": null,
   "metadata": {},
   "outputs": [],
   "source": [
    "sbt 'runMain org.clulab.processors.server.ProcessorServer'"
   ]
  },
  {
   "cell_type": "code",
   "execution_count": null,
   "metadata": {},
   "outputs": [],
   "source": [
    "[info] welcome to sbt 1.4.0 (Private Build Java 1.8.0_275)\n",
    "[info] loading settings for project reach-build from plugins.sbt ...\n",
    "[info] loading project definition from /scratch/reach/project\n",
    "[info] loading settings for project root from build.sbt,version.sbt ...\n",
    "[info] loading settings for project processors from build.sbt ...\n",
    "[info] loading settings for project main from build.sbt ...\n",
    "[info] loading settings for project export from build.sbt ...\n",
    "[info] set current project to reach-exe (in build file:/scratch/reach/)\n",
    "[warn] there's a key that's not used by any other settings/tasks:\n",
    "[warn]  \n",
    "[warn] * root / releaseProcess\n",
    "[warn]   +- /scratch/reach/build.sbt:105\n",
    "[warn]  \n",
    "[warn] note: a setting might still be used by a command; to exclude a key from this `lintUnused` check\n",
    "[warn] either append it to `Global / excludeLintKeys` or call .withRank(KeyRanks.Invisible) on the key\n",
    "[info] running org.clulab.processors.server.ProcessorServer \n",
    "[error] (run-main-0) java.lang.ClassNotFoundException: org.clulab.processors.server.ProcessorServer\n",
    "[error] java.lang.ClassNotFoundException: org.clulab.processors.server.ProcessorServer\n",
    "[error] \tat java.net.URLClassLoader.findClass(URLClassLoader.java:382)\n",
    "[error] stack trace is suppressed; run last Compile / bgRunMain for the full output\n",
    "[error] Nonzero exit code: 1\n",
    "[error] (Compile / runMain) Nonzero exit code: 1\n",
    "[error] Total time: 27 s, completed Nov 29, 2020 9:49:24 AM"
   ]
  },
  {
   "cell_type": "code",
   "execution_count": null,
   "metadata": {},
   "outputs": [],
   "source": [
    "sbt 'runMain org.clulab.reach.RunReachCLI'"
   ]
  },
  {
   "cell_type": "code",
   "execution_count": null,
   "metadata": {},
   "outputs": [],
   "source": [
    "[info] welcome to sbt 1.4.0 (Private Build Java 1.8.0_275)\n",
    "[info] loading settings for project reach-build from plugins.sbt ...\n",
    "[info] loading project definition from /scratch/reach/project\n",
    "[info] loading settings for project root from build.sbt,version.sbt ...\n",
    "[info] loading settings for project processors from build.sbt ...\n",
    "[info] loading settings for project main from build.sbt ...\n",
    "[info] loading settings for project export from build.sbt ...\n",
    "[info] set current project to reach-exe (in build file:/scratch/reach/)\n",
    "[warn] there's a key that's not used by any other settings/tasks:\n",
    "[warn]  \n",
    "[warn] * root / releaseProcess\n",
    "[warn]   +- /scratch/reach/build.sbt:105\n",
    "[warn]  \n",
    "[warn] note: a setting might still be used by a command; to exclude a key from this `lintUnused` check\n",
    "[warn] either append it to `Global / excludeLintKeys` or call .withRank(KeyRanks.Invisible) on the key\n",
    "[info] running org.clulab.reach.RunReachCLI \n",
    "09:50:18.028 [run-main-0] INFO  org.clulab.reach.RunReachCLI$ - ReachCLI begins...\n",
    "09:50:18.040 [run-main-0] INFO  org.clulab.reach.RunReachCLI$ - Creating output directory: /scratch/reach/output\n",
    "09:50:18.072 [run-main-0] INFO  org.clulab.reach.ReachCLI - Initializing Reach ...\n",
    "09:50:18.545 [scala-execution-context-global-97] INFO  org.clulab.reach.ReachCLI - Sun Nov 29 09:50:18 MST 2020: Starting PMC2376060\n",
    "09:50:18.548 [scala-execution-context-global-95] INFO  org.clulab.reach.ReachCLI - Sun Nov 29 09:50:18 MST 2020: Starting PMC2376166\n",
    "09:50:18.556 [scala-execution-context-global-99] INFO  org.clulab.reach.ReachCLI - Sun Nov 29 09:50:18 MST 2020: Starting PMC2376115\n",
    "09:50:18.548 [scala-execution-context-global-96] INFO  org.clulab.reach.ReachCLI - Sun Nov 29 09:50:18 MST 2020: Starting PMC2376165\n",
    "09:50:18.548 [scala-execution-context-global-100] INFO  org.clulab.reach.ReachCLI - Sun Nov 29 09:50:18 MST 2020: Starting PMC2376076\n",
    "09:50:18.563 [scala-execution-context-global-98] INFO  org.clulab.reach.ReachCLI - Sun Nov 29 09:50:18 MST 2020: Starting PMC2376939\n",
    "09:50:18.566 [scala-execution-context-global-101] INFO  org.clulab.reach.ReachCLI - Sun Nov 29 09:50:18 MST 2020: Starting PMC2376094\n",
    "09:50:18.560 [scala-execution-context-global-94] INFO  org.clulab.reach.ReachCLI - Sun Nov 29 09:50:18 MST 2020: Starting PMC2376178\n",
    "[dynet] random seed: 720854548\n",
    "[dynet] allocating memory: 512,512,512,512MB\n",
    "[dynet] memory allocation done.\n",
    "09:50:21.180 [scala-execution-context-global-96] INFO  o.c.p.m.DeepLearningPolarityClassifier - Loading saved model SavedLSTM_WideBound_u_tag ...\n",
    "09:50:22.092 [scala-execution-context-global-96] INFO  o.c.p.m.DeepLearningPolarityClassifier - Loading model finished!\n",
    "09:51:10.596 [scala-execution-context-global-96] INFO  e.s.nlp.pipeline.StanfordCoreNLP - Adding annotator pos\n",
    "09:51:11.461 [scala-execution-context-global-96] INFO  e.s.nlp.tagger.maxent.MaxentTagger - Loading POS tagger from edu/stanford/nlp/models/pos-tagger/english-left3words/english-left3words-distsim.tagger ... done [0.8 sec].\n",
    "09:51:12.629 [scala-execution-context-global-96] INFO  e.s.nlp.pipeline.StanfordCoreNLP - Adding annotator lemma\n",
    "09:51:12.770 [scala-execution-context-global-96] INFO  org.clulab.sequences.LexiconNER - Beginning to load the KBs for the rule-based NER...\n",
    "09:51:12.988 [scala-execution-context-global-96] INFO  org.clulab.sequences.LexiconNER - Loaded OVERRIDE matchers for all labels.  The number of entries added to the first layer was 746.\n",
    "09:51:14.975 [scala-execution-context-global-96] INFO  org.clulab.sequences.LexiconNER - Loaded matcher for label Gene_or_gene_product. The number of entries added to the first layer was 86070.\n",
    "09:51:15.766 [scala-execution-context-global-96] INFO  org.clulab.sequences.LexiconNER - Loaded matcher for label Family. The number of entries added to the first layer was 22434.\n",
    "09:51:15.803 [scala-execution-context-global-96] INFO  org.clulab.sequences.LexiconNER - Loaded matcher for label Cellular_component. The number of entries added to the first layer was 579.\n",
    "09:51:22.065 [scala-execution-context-global-96] INFO  org.clulab.sequences.LexiconNER - Loaded matcher for label Simple_chemical. The number of entries added to the first layer was 102189.\n",
    "09:51:22.167 [scala-execution-context-global-96] INFO  org.clulab.sequences.LexiconNER - Loaded matcher for label Site. The number of entries added to the first layer was 518.\n",
    "09:51:24.393 [scala-execution-context-global-96] INFO  org.clulab.sequences.LexiconNER - Loaded matcher for label BioProcess. The number of entries added to the first layer was 2244.\n",
    "09:51:24.658 [scala-execution-context-global-96] INFO  org.clulab.sequences.LexiconNER - Loaded matcher for label Disease. The number of entries added to the first layer was 7121.\n",
    "09:51:24.674 [scala-execution-context-global-96] INFO  org.clulab.sequences.LexiconNER - Loaded matcher for label Species. The number of entries added to the first layer was 976.\n",
    "09:51:25.201 [scala-execution-context-global-96] INFO  org.clulab.sequences.LexiconNER - Loaded matcher for label CellLine. The number of entries added to the first layer was 66032.\n",
    "09:51:25.217 [scala-execution-context-global-96] INFO  org.clulab.sequences.LexiconNER - Loaded matcher for label TissueType. The number of entries added to the first layer was 372.\n",
    "09:51:25.279 [scala-execution-context-global-96] INFO  org.clulab.sequences.LexiconNER - Loaded matcher for label CellType. The number of entries added to the first layer was 887.\n",
    "09:51:25.621 [scala-execution-context-global-96] INFO  org.clulab.sequences.LexiconNER - Loaded matcher for label Organ. The number of entries added to the first layer was 3863.\n",
    "09:51:25.621 [scala-execution-context-global-96] INFO  org.clulab.sequences.LexiconNER - KB loading completed.\n",
    "09:51:27.882 [scala-execution-context-global-96] INFO  e.s.nlp.sequences.SeqClassifierFlags - macro=true\n",
    "09:51:27.883 [scala-execution-context-global-96] INFO  e.s.nlp.sequences.SeqClassifierFlags - featureFactory=org.clulab.processors.bionlp.ner.BioNERFactory\n",
    "09:51:29.789 [scala-execution-context-global-96] INFO  e.s.n.ie.AbstractSequenceClassifier - Loading classifier from org/clulab/processors/bionlp/ner/bioner.dat ... done [1.9 sec].\n",
    "09:51:34.659 [scala-execution-context-global-97] INFO  e.s.n.p.lexparser.LexicalizedParser - Loading parser from serialized file edu/stanford/nlp/models/lexparser/englishPCFG.ser.gz ... done [3.4 sec].\n",
    "09:52:25.333 [scala-execution-context-global-99] INFO  e.s.nlp.sequences.SeqClassifierFlags - macro=true\n",
    "09:52:25.334 [scala-execution-context-global-99] INFO  e.s.nlp.sequences.SeqClassifierFlags - featureCountThresh=10\n",
    "09:52:25.335 [scala-execution-context-global-99] INFO  e.s.nlp.sequences.SeqClassifierFlags - featureFactory=org.clulab.processors.corenlp.chunker.ChunkingFeatureFactory\n",
    "09:53:09.063 [scala-execution-context-global-96] INFO  org.clulab.reach.ReachCLI - Sun Nov 29 09:53:09 MST 2020: Finished PMC2376165 successfully (170 seconds)\n",
    "09:53:09.064 [scala-execution-context-global-96] INFO  org.clulab.reach.ReachCLI - Sun Nov 29 09:53:09 MST 2020: PapersDone: 1, ElapsedTime: 171, Average: 170\n",
    "09:53:09.150 [scala-execution-context-global-98] INFO  org.clulab.reach.ReachCLI - Sun Nov 29 09:53:09 MST 2020: Finished PMC2376939 successfully (170 seconds)\n",
    "09:53:09.150 [scala-execution-context-global-98] INFO  org.clulab.reach.ReachCLI - Sun Nov 29 09:53:09 MST 2020: PapersDone: 2, ElapsedTime: 171, Average: 170\n",
    "09:53:09.151 [scala-execution-context-global-98] INFO  org.clulab.reach.ReachCLI - Sun Nov 29 09:53:09 MST 2020: Starting PMC2376351\n",
    "09:53:12.084 [scala-execution-context-global-99] INFO  org.clulab.reach.ReachCLI - Sun Nov 29 09:53:12 MST 2020: Finished PMC2376115 successfully (173 seconds)\n",
    "09:53:12.085 [scala-execution-context-global-99] INFO  org.clulab.reach.ReachCLI - Sun Nov 29 09:53:12 MST 2020: PapersDone: 3, ElapsedTime: 174, Average: 171\n",
    "09:53:12.086 [scala-execution-context-global-99] INFO  org.clulab.reach.ReachCLI - Sun Nov 29 09:53:12 MST 2020: Starting PMC2376921\n",
    "09:53:16.985 [scala-execution-context-global-94] INFO  org.clulab.reach.ReachCLI - Sun Nov 29 09:53:16 MST 2020: Finished PMC2376178 successfully (178 seconds)\n",
    "09:53:16.986 [scala-execution-context-global-94] INFO  org.clulab.reach.ReachCLI - Sun Nov 29 09:53:16 MST 2020: PapersDone: 4, ElapsedTime: 178, Average: 172\n",
    "09:53:41.726 [scala-execution-context-global-99] INFO  org.clulab.reach.ReachCLI - Sun Nov 29 09:53:41 MST 2020: Finished PMC2376921 successfully (29 seconds)\n",
    "09:53:41.726 [scala-execution-context-global-99] INFO  org.clulab.reach.ReachCLI - Sun Nov 29 09:53:41 MST 2020: PapersDone: 5, ElapsedTime: 203, Average: 144\n",
    "09:53:41.727 [scala-execution-context-global-99] INFO  org.clulab.reach.ReachCLI - Sun Nov 29 09:53:41 MST 2020: Starting PMC2376335\n",
    "09:53:59.376 [scala-execution-context-global-98] INFO  org.clulab.reach.ReachCLI - Sun Nov 29 09:53:59 MST 2020: Finished PMC2376351 successfully (50 seconds)\n",
    "09:53:59.377 [scala-execution-context-global-98] INFO  org.clulab.reach.ReachCLI - Sun Nov 29 09:53:59 MST 2020: PapersDone: 6, ElapsedTime: 221, Average: 128\n",
    "09:53:59.378 [scala-execution-context-global-98] INFO  org.clulab.reach.ReachCLI - Sun Nov 29 09:53:59 MST 2020: Starting PMC2376180\n",
    "09:54:39.206 [scala-execution-context-global-99] INFO  org.clulab.reach.ReachCLI - Sun Nov 29 09:54:39 MST 2020: Finished PMC2376335 successfully (57 seconds)\n",
    "09:54:39.206 [scala-execution-context-global-99] INFO  org.clulab.reach.ReachCLI - Sun Nov 29 09:54:39 MST 2020: PapersDone: 7, ElapsedTime: 261, Average: 118\n",
    "09:54:39.207 [scala-execution-context-global-99] INFO  org.clulab.reach.ReachCLI - Sun Nov 29 09:54:39 MST 2020: Starting PMC2376107\n",
    "09:55:01.449 [scala-execution-context-global-97] INFO  org.clulab.reach.ReachCLI - Sun Nov 29 09:55:01 MST 2020: Finished PMC2376060 successfully (282 seconds)\n",
    "09:55:01.450 [scala-execution-context-global-97] INFO  org.clulab.reach.ReachCLI - Sun Nov 29 09:55:01 MST 2020: PapersDone: 8, ElapsedTime: 283, Average: 138\n",
    "09:55:15.167 [scala-execution-context-global-98] INFO  org.clulab.reach.ReachCLI - Sun Nov 29 09:55:15 MST 2020: Finished PMC2376180 successfully (75 seconds)\n",
    "09:55:15.167 [scala-execution-context-global-98] INFO  org.clulab.reach.ReachCLI - Sun Nov 29 09:55:15 MST 2020: PapersDone: 9, ElapsedTime: 297, Average: 131\n",
    "09:55:26.299 [scala-execution-context-global-99] INFO  org.clulab.reach.ReachCLI - Sun Nov 29 09:55:26 MST 2020: Finished PMC2376107 successfully (47 seconds)\n",
    "09:55:26.299 [scala-execution-context-global-99] INFO  org.clulab.reach.ReachCLI - Sun Nov 29 09:55:26 MST 2020: PapersDone: 10, ElapsedTime: 308, Average: 123\n",
    "09:55:27.959 [scala-execution-context-global-100] INFO  org.clulab.reach.ReachCLI - Sun Nov 29 09:55:27 MST 2020: Finished PMC2376076 successfully (309 seconds)\n",
    "09:55:27.960 [scala-execution-context-global-100] INFO  org.clulab.reach.ReachCLI - Sun Nov 29 09:55:27 MST 2020: PapersDone: 11, ElapsedTime: 309, Average: 140\n",
    "09:57:34.435 [scala-execution-context-global-95] INFO  org.clulab.reach.ReachCLI - Sun Nov 29 09:57:34 MST 2020: Finished PMC2376166 successfully (435 seconds)\n",
    "09:57:34.436 [scala-execution-context-global-95] INFO  org.clulab.reach.ReachCLI - Sun Nov 29 09:57:34 MST 2020: PapersDone: 12, ElapsedTime: 436, Average: 164\n",
    "10:13:30.487 [scala-execution-context-global-101] INFO  org.clulab.reach.ReachCLI - Sun Nov 29 10:13:30 MST 2020: Finished PMC2376094 successfully (1391 seconds)\n",
    "10:13:30.488 [scala-execution-context-global-101] INFO  org.clulab.reach.ReachCLI - Sun Nov 29 10:13:30 MST 2020: PapersDone: 13, ElapsedTime: 1392, Average: 258\n",
    "[warn] 9.698 seconds of the last 10 seconds were spent in garbage collection. You may want to increase the project heap size using `-Xmx` or try a different gc algorithm, e.g. `-XX:+UseG1GC`, for better performance.\n",
    "[success] Total time: 1437 s (23:57), completed Nov 29, 2020 10:13:49 AM"
   ]
  },
  {
   "cell_type": "markdown",
   "metadata": {},
   "source": [
    "ls output/"
   ]
  },
  {
   "cell_type": "code",
   "execution_count": null,
   "metadata": {},
   "outputs": [],
   "source": [
    "PMC2376060.uaz.entities.json   PMC2376094.uaz.events.json     PMC2376115.uaz.sentences.json  PMC2376178.uaz.entities.json   PMC2376335.uaz.events.json     PMC2376921.uaz.sentences.json\n",
    "PMC2376060.uaz.events.json     PMC2376094.uaz.sentences.json  PMC2376165.uaz.entities.json   PMC2376178.uaz.events.json     PMC2376335.uaz.sentences.json  PMC2376939.uaz.entities.json\n",
    "PMC2376060.uaz.sentences.json  PMC2376107.uaz.entities.json   PMC2376165.uaz.events.json     PMC2376178.uaz.sentences.json  PMC2376351.uaz.entities.json   PMC2376939.uaz.events.json\n",
    "PMC2376076.uaz.entities.json   PMC2376107.uaz.events.json     PMC2376165.uaz.sentences.json  PMC2376180.uaz.entities.json   PMC2376351.uaz.events.json     PMC2376939.uaz.sentences.json\n",
    "PMC2376076.uaz.events.json     PMC2376107.uaz.sentences.json  PMC2376166.uaz.entities.json   PMC2376180.uaz.events.json     PMC2376351.uaz.sentences.json  restart.log\n",
    "PMC2376076.uaz.sentences.json  PMC2376115.uaz.entities.json   PMC2376166.uaz.events.json     PMC2376180.uaz.sentences.json  PMC2376921.uaz.entities.json\n",
    "PMC2376094.uaz.entities.json   PMC2376115.uaz.events.json     PMC2376166.uaz.sentences.json  PMC2376335.uaz.entities.json   PMC2376921.uaz.events.json"
   ]
  },
  {
   "cell_type": "markdown",
   "metadata": {},
   "source": []
  },
  {
   "cell_type": "markdown",
   "metadata": {},
   "source": [
    "### Modify `application.conf` with rootfir path for HPC and Build FAT JAR"
   ]
  },
  {
   "cell_type": "markdown",
   "metadata": {},
   "source": [
    "nano main/src/main/resources/application.conf"
   ]
  },
  {
   "cell_type": "markdown",
   "metadata": {},
   "source": [
    "rootDir = /home/u15/sateeshp/reach\n",
    "\n",
    "threadLimit = 21"
   ]
  },
  {
   "cell_type": "markdown",
   "metadata": {},
   "source": [
    "sbt assembly"
   ]
  },
  {
   "cell_type": "code",
   "execution_count": null,
   "metadata": {},
   "outputs": [],
   "source": [
    "[info] welcome to sbt 1.4.0 (Private Build Java 1.8.0_275)\n",
    "[info] loading settings for project reach-build from plugins.sbt ...\n",
    "[info] loading project definition from /scratch/reach/project\n",
    "[info] loading settings for project root from build.sbt,version.sbt ...\n",
    "[info] loading settings for project processors from build.sbt ...\n",
    "[info] loading settings for project main from build.sbt ...\n",
    "[info] loading settings for project export from build.sbt ...\n",
    "[info] set current project to reach-exe (in build file:/scratch/reach/)\n",
    "[warn] there's a key that's not used by any other settings/tasks:\n",
    "[warn]  \n",
    "[warn] * root / releaseProcess\n",
    "[warn]   +- /scratch/reach/build.sbt:105\n",
    "[warn]  \n",
    "[warn] note: a setting might still be used by a command; to exclude a key from this `lintUnused` check\n",
    "[warn] either append it to `Global / excludeLintKeys` or call .withRank(KeyRanks.Invisible) on the key\n",
    "[info] Strategy 'concat' was applied to a file (Run the task at debug level to see details)\n",
    "[info] Strategy 'deduplicate' was applied to 139 files (Run the task at debug level to see details)\n",
    "[info] Strategy 'discard' was applied to 65 files (Run the task at debug level to see details)\n",
    "[info] Strategy 'filterDistinctLines' was applied to 2 files (Run the task at debug level to see details)\n",
    "[success] Total time: 317 s (05:17), completed Nov 29, 2020 10:24:17 AM"
   ]
  },
  {
   "cell_type": "code",
   "execution_count": null,
   "metadata": {},
   "outputs": [],
   "source": [
    "ls -lh target/scala-2.12/"
   ]
  },
  {
   "cell_type": "code",
   "execution_count": null,
   "metadata": {},
   "outputs": [],
   "source": [
    "total 1.8G\n",
    "drwxr-xr-x 3 sateeshp iplant-everyone 4.0K Nov  8 13:04 classes\n",
    "drwxr-xr-x 3 sateeshp iplant-everyone 4.0K Nov 28 11:19 project\n",
    "-rw-r--r-- 1 sateeshp iplant-everyone 1.8G Nov 29 10:24 reach-1.6.2-SNAPSHOT-FAT.jar"
   ]
  },
  {
   "cell_type": "markdown",
   "metadata": {},
   "source": [
    "Upload FAT jar to cyverse datastore"
   ]
  },
  {
   "cell_type": "markdown",
   "metadata": {},
   "source": [
    "imkdir reach_pumed\n",
    "icd reach_pumed\n",
    "iput -K -r reach-1.6.2-SNAPSHOT-FAT.jar"
   ]
  },
  {
   "cell_type": "markdown",
   "metadata": {},
   "source": []
  },
  {
   "cell_type": "markdown",
   "metadata": {},
   "source": [
    "# Part-4 : Running FAT jar on UA HPC"
   ]
  },
  {
   "cell_type": "markdown",
   "metadata": {},
   "source": []
  },
  {
   "cell_type": "markdown",
   "metadata": {},
   "source": [
    "Login to UA HPC"
   ]
  },
  {
   "cell_type": "markdown",
   "metadata": {},
   "source": []
  },
  {
   "cell_type": "code",
   "execution_count": null,
   "metadata": {},
   "outputs": [],
   "source": [
    "This is a bastion host used to access the rest of the RT/HPC environment.\n",
    "\n",
    "Shortcut commands to access each resource\n",
    "-----------------------------------------\n",
    "Ocelote:\n",
    "$ ocelote\n",
    "\n",
    "El Gato:\n",
    "$ elgato\n",
    "\n",
    "Puma:\n",
    "$ puma"
   ]
  },
  {
   "cell_type": "markdown",
   "metadata": {},
   "source": [
    "### `java/8` module is available only in Ocelote"
   ]
  },
  {
   "cell_type": "code",
   "execution_count": null,
   "metadata": {},
   "outputs": [],
   "source": [
    "ocelote"
   ]
  },
  {
   "cell_type": "markdown",
   "metadata": {},
   "source": [
    "git clone reach repo"
   ]
  },
  {
   "cell_type": "code",
   "execution_count": null,
   "metadata": {},
   "outputs": [],
   "source": [
    "git clone https://github.com/clulab/reach.git\n",
    "cd reach    "
   ]
  },
  {
   "cell_type": "markdown",
   "metadata": {},
   "source": [
    "modify application.conf with rootdir path & threads"
   ]
  },
  {
   "cell_type": "markdown",
   "metadata": {},
   "source": [
    "`nano main/src/main/resources/application.conf`"
   ]
  },
  {
   "cell_type": "code",
   "execution_count": null,
   "metadata": {},
   "outputs": [],
   "source": [
    "rootDir = /home/u15/sateeshp/reach\n",
    "\n",
    "threadLimit = 21"
   ]
  },
  {
   "cell_type": "markdown",
   "metadata": {},
   "source": [
    "Make papers folder in the reach directory & copy some nxml's into it"
   ]
  },
  {
   "cell_type": "code",
   "execution_count": null,
   "metadata": {},
   "outputs": [],
   "source": [
    "mkdir papers"
   ]
  },
  {
   "cell_type": "markdown",
   "metadata": {},
   "source": [
    "Download reach FAT jar from cyverse datastore"
   ]
  },
  {
   "cell_type": "code",
   "execution_count": null,
   "metadata": {},
   "outputs": [],
   "source": [
    "iget -K -r reach-1.6.2-SNAPSHOT-FAT.jar"
   ]
  },
  {
   "cell_type": "markdown",
   "metadata": {},
   "source": [
    "### Launch Interactive node"
   ]
  },
  {
   "cell_type": "code",
   "execution_count": null,
   "metadata": {},
   "outputs": [],
   "source": [
    "qsub -I -N jobname -W group_list=guangyao -q standard -l select=1:ncpus=28:mem=168gb -l walltime=0:60:0"
   ]
  },
  {
   "cell_type": "code",
   "execution_count": null,
   "metadata": {},
   "outputs": [],
   "source": [
    "module load java/8/1.8"
   ]
  },
  {
   "cell_type": "code",
   "execution_count": null,
   "metadata": {},
   "outputs": [],
   "source": [
    "java -jar reach-1.6.2-SNAPSHOT-FAT.jar"
   ]
  },
  {
   "cell_type": "code",
   "execution_count": null,
   "metadata": {},
   "outputs": [],
   "source": [
    "Suppressed: java.lang.NoClassDefFoundError: Could not initialize class edu.cmu.dynet.internal.dynet_swigJNI\n",
    "\t\t\t... 35 more\n",
    "\t\t\tSuppressed: java.lang.UnsatisfiedLinkError: /tmp/dynet4094567225789306381.dll: /lib64/libc.so.6: version `GLIBC_2.14' not found (required by /tmp/dynet4094567225789306381.dll)\n"
   ]
  },
  {
   "cell_type": "code",
   "execution_count": null,
   "metadata": {},
   "outputs": [],
   "source": []
  },
  {
   "cell_type": "markdown",
   "metadata": {},
   "source": [
    "<div class=\"alert alert-block alert-danger\">\n",
    "<b>Attention:</b> El Gato & Puma compute nodes have no `java/8/` or `sbt` modules availale\n",
    "</div>\n"
   ]
  },
  {
   "cell_type": "code",
   "execution_count": null,
   "metadata": {},
   "outputs": [],
   "source": []
  },
  {
   "cell_type": "code",
   "execution_count": null,
   "metadata": {},
   "outputs": [],
   "source": []
  },
  {
   "cell_type": "markdown",
   "metadata": {},
   "source": [
    "# Part-4 : SBT Assembly on UA HPC - Failed\n",
    "\n",
    "### sbt 1.0.3"
   ]
  },
  {
   "cell_type": "markdown",
   "metadata": {},
   "source": [
    "Login to UA HPC"
   ]
  },
  {
   "cell_type": "markdown",
   "metadata": {},
   "source": []
  },
  {
   "cell_type": "code",
   "execution_count": null,
   "metadata": {},
   "outputs": [],
   "source": [
    "This is a bastion host used to access the rest of the RT/HPC environment.\n",
    "\n",
    "Shortcut commands to access each resource\n",
    "-----------------------------------------\n",
    "Ocelote:\n",
    "$ ocelote\n",
    "\n",
    "El Gato:\n",
    "$ elgato\n",
    "\n",
    "Puma:\n",
    "$ puma"
   ]
  },
  {
   "cell_type": "markdown",
   "metadata": {},
   "source": [
    "### `java/8` module is available only in Ocelote"
   ]
  },
  {
   "cell_type": "code",
   "execution_count": null,
   "metadata": {},
   "outputs": [],
   "source": [
    "ocelote"
   ]
  },
  {
   "cell_type": "markdown",
   "metadata": {},
   "source": [
    "git clone reach repo"
   ]
  },
  {
   "cell_type": "code",
   "execution_count": null,
   "metadata": {},
   "outputs": [],
   "source": [
    "git clone https://github.com/clulab/reach.git\n",
    "cd reach    "
   ]
  },
  {
   "cell_type": "markdown",
   "metadata": {},
   "source": [
    "modify application.conf with rootdir path & threads"
   ]
  },
  {
   "cell_type": "markdown",
   "metadata": {},
   "source": [
    "`nano main/src/main/resources/application.conf`"
   ]
  },
  {
   "cell_type": "code",
   "execution_count": null,
   "metadata": {},
   "outputs": [],
   "source": [
    "rootDir = ${user.home}/reach\n",
    "\n",
    "threadLimit = 21"
   ]
  },
  {
   "cell_type": "markdown",
   "metadata": {},
   "source": [
    "Make papers folder in the reach directory & copy some nxml's into it"
   ]
  },
  {
   "cell_type": "code",
   "execution_count": null,
   "metadata": {},
   "outputs": [],
   "source": [
    "mkdir papers"
   ]
  },
  {
   "cell_type": "markdown",
   "metadata": {},
   "source": [
    "### Launch an interactive node as follows"
   ]
  },
  {
   "cell_type": "code",
   "execution_count": null,
   "metadata": {},
   "outputs": [],
   "source": [
    "qsub -I -N jobname -W group_list=guangyao -q standard -l select=1:ncpus=28:mem=168gb -l walltime=0:60:0"
   ]
  },
  {
   "cell_type": "markdown",
   "metadata": {},
   "source": [
    "module load java/8/1.8\n",
    "module load sbt/1/1.0.3"
   ]
  },
  {
   "cell_type": "code",
   "execution_count": null,
   "metadata": {},
   "outputs": [],
   "source": [
    "java -version\n",
    "openjdk version \"1.8.0_265\"\n",
    "OpenJDK Runtime Environment (build 1.8.0_265-b01)\n",
    "OpenJDK 64-Bit Server VM (build 25.265-b01, mixed mode)\n",
    "\n",
    "sbt sbtVersion\n",
    "[info] 1.0.3"
   ]
  },
  {
   "cell_type": "code",
   "execution_count": null,
   "metadata": {},
   "outputs": [],
   "source": [
    "sbt 'runMain org.clulab.processors.server.ProcessorServer'"
   ]
  },
  {
   "cell_type": "code",
   "execution_count": null,
   "metadata": {},
   "outputs": [],
   "source": [
    "[sateeshp@i11n2 reach]$ sbt 'runMain org.clulab.processors.server.ProcessorServer'\n",
    "\n",
    "[info] welcome to sbt 1.4.0 (Oracle Corporation Java 1.8.0_265)\n",
    "[info] loading settings for project reach-build from plugins.sbt ...\n",
    "[info] loading project definition from /home/u15/sateeshp/reach/project\n",
    "[warn] There may be incompatibilities among your library dependencies; run 'evicted' to see detailed eviction warnings.\n",
    "[info] loading settings for project root from build.sbt,version.sbt ...\n",
    "[info] loading settings for project processors from build.sbt ...\n",
    "[info] loading settings for project main from build.sbt ...\n",
    "[info] loading settings for project export from build.sbt ...\n",
    "[info] set current project to reach-exe (in build file:/home/u15/sateeshp/reach/)\n",
    "[warn] there's a key that's not used by any other settings/tasks:\n",
    "[warn]  \n",
    "[warn] * root / releaseProcess\n",
    "[warn]   +- /home/u15/sateeshp/reach/build.sbt:105\n",
    "[warn]  \n",
    "[warn] note: a setting might still be used by a command; to exclude a key from this `lintUnused` check\n",
    "[warn] either append it to `Global / excludeLintKeys` or call .withRank(KeyRanks.Invisible) on the key\n",
    "[warn] There may be incompatibilities among your library dependencies; run 'evicted' to see detailed eviction warnings.\n",
    "[warn] There may be incompatibilities among your library dependencies; run 'evicted' to see detailed eviction warnings.\n",
    "[warn] There may be incompatibilities among your library dependencies; run 'evicted' to see detailed eviction warnings.\n",
    "[warn] There may be incompatibilities among your library dependencies; run 'evicted' to see detailed eviction warnings.\n",
    "[info] compiling 16 Scala sources and 1 Java source to /home/u15/sateeshp/reach/processors/target/scala-2.12/classes ...\n",
    "[info] compiling 92 Scala sources and 1 Java source to /home/u15/sateeshp/reach/main/target/scala-2.12/classes ...\n",
    "[warn] /home/u15/sateeshp/reach/main/src/main/scala/org/clulab/reach/brat/Brat.scala:247:29: match may not be exhaustive.\n",
    "[warn] It would fail on the following input: (_, _)\n",
    "[warn]     tbs.zipWithIndex.foreach{\n",
    "[warn]                             ^\n",
    "[warn] /home/u15/sateeshp/reach/main/src/main/scala/org/clulab/reach/mentions/serialization/json/package.scala:202:27: match may not be exhaustive.\n",
    "[warn] It would fail on the following inputs: CHEMtrigger(_), DNtrigger(_), KDtrigger(_), KOtrigger(_), OEtrigger(_), UnassignedTrigger(_)\n",
    "[warn]     def jsonAST: JValue = mod match {\n",
    "[warn]                           ^\n",
    "[warn] /home/u15/sateeshp/reach/main/src/main/scala/org/clulab/reach/utils/PathFinder.scala:44:62: match may not be exhaustive.\n",
    "[warn] It would fail on the following inputs: (??, _, _), (_, ??, _), (_, _, _)\n",
    "[warn]           for (((n1, n2), edge) <- pairs zip edgePath) yield edge match {\n",
    "[warn]                                                              ^\n",
    "[warn] /home/u15/sateeshp/reach/main/src/main/scala/org/clulab/reach/PaperReader.scala:71:61: type ForkJoinPool in package forkjoin is deprecated (since 2.12.0): use java.util.concurrent.ForkJoinPool directly, instead of this alias\n",
    "[warn]       new ForkJoinTaskSupport(new scala.concurrent.forkjoin.ForkJoinPool(threadLimit))\n",
    "[warn]                                                             ^\n",
    "[warn] four warnings found\n",
    "[info] compiling 14 Scala sources to /home/u15/sateeshp/reach/export/target/scala-2.12/classes ...\n",
    "[info] compiling 2 Scala sources to /home/u15/sateeshp/reach/target/scala-2.12/classes ...\n",
    "[warn] /home/u15/sateeshp/reach/src/main/scala/org/clulab/reach/ReachCLI.scala:72:63: type ForkJoinPool in package forkjoin is deprecated (since 2.12.0): use java.util.concurrent.ForkJoinPool directly, instead of this alias\n",
    "[warn]         new ForkJoinTaskSupport(new scala.concurrent.forkjoin.ForkJoinPool(threadLimit.get))\n",
    "[warn]                                                               ^\n",
    "[warn] one warning found\n",
    "[info] running org.clulab.processors.server.ProcessorServer \n",
    "[error] (run-main-0) java.lang.ClassNotFoundException: org.clulab.processors.server.ProcessorServer\n",
    "[error] java.lang.ClassNotFoundException: org.clulab.processors.server.ProcessorServer\n",
    "[error] \tat java.net.URLClassLoader.findClass(URLClassLoader.java:382)\n",
    "[error] stack trace is suppressed; run last Compile / bgRunMain for the full output\n",
    "[error] Nonzero exit code: 1\n",
    "[error] (Compile / runMain) Nonzero exit code: 1\n",
    "[error] Total time: 74 s (01:14), completed Nov 29, 2020 9:43:21 AM"
   ]
  },
  {
   "cell_type": "code",
   "execution_count": null,
   "metadata": {},
   "outputs": [],
   "source": [
    "sbt 'runMain org.clulab.reach.RunReachCLI'"
   ]
  },
  {
   "cell_type": "code",
   "execution_count": null,
   "metadata": {},
   "outputs": [],
   "source": [
    "[sateeshp@i11n2 reach]$ sbt 'runMain org.clulab.reach.RunReachCLI'\n",
    "[info] welcome to sbt 1.4.0 (Oracle Corporation Java 1.8.0_265)\n",
    "[info] loading settings for project reach-build from plugins.sbt ...\n",
    "[info] loading project definition from /home/u15/sateeshp/reach/project\n",
    "[info] loading settings for project root from build.sbt,version.sbt ...\n",
    "[info] loading settings for project processors from build.sbt ...\n",
    "[info] loading settings for project main from build.sbt ...\n",
    "[info] loading settings for project export from build.sbt ...\n",
    "[info] set current project to reach-exe (in build file:/home/u15/sateeshp/reach/)\n",
    "[warn] there's a key that's not used by any other settings/tasks:\n",
    "[warn]  \n",
    "[warn] * root / releaseProcess\n",
    "[warn]   +- /home/u15/sateeshp/reach/build.sbt:105\n",
    "[warn]  \n",
    "[warn] note: a setting might still be used by a command; to exclude a key from this `lintUnused` check\n",
    "[warn] either append it to `Global / excludeLintKeys` or call .withRank(KeyRanks.Invisible) on the key\n",
    "[info] running org.clulab.reach.RunReachCLI \n",
    "09:45:03.786 [run-main-0] INFO  org.clulab.reach.RunReachCLI$ - ReachCLI begins...\n",
    "09:45:03.791 [run-main-0] INFO  org.clulab.reach.RunReachCLI$ - Creating output directory: /home/u15/sateeshp/reach/output\n",
    "09:45:03.821 [run-main-0] INFO  org.clulab.reach.ReachCLI - Initializing Reach ...\n",
    "09:45:04.245 [scala-execution-context-global-166] INFO  org.clulab.reach.ReachCLI - Sun Nov 29 09:45:04 MST 2020: Starting PMC2376351\n",
    "09:45:04.247 [scala-execution-context-global-170] INFO  org.clulab.reach.ReachCLI - Sun Nov 29 09:45:04 MST 2020: Starting PMC2376921\n",
    "09:45:04.247 [scala-execution-context-global-172] INFO  org.clulab.reach.ReachCLI - Sun Nov 29 09:45:04 MST 2020: Starting PMC2376939\n",
    "09:45:04.247 [scala-execution-context-global-174] INFO  org.clulab.reach.ReachCLI - Sun Nov 29 09:45:04 MST 2020: Starting PMC2376115\n",
    "09:45:04.254 [scala-execution-context-global-177] INFO  org.clulab.reach.ReachCLI - Sun Nov 29 09:45:04 MST 2020: Starting PMC2376060\n",
    "09:45:04.247 [scala-execution-context-global-171] INFO  org.clulab.reach.ReachCLI - Sun Nov 29 09:45:04 MST 2020: Starting PMC2376076\n",
    "09:45:04.245 [scala-execution-context-global-167] INFO  org.clulab.reach.ReachCLI - Sun Nov 29 09:45:04 MST 2020: Starting PMC2376178\n",
    "09:45:04.245 [scala-execution-context-global-169] INFO  org.clulab.reach.ReachCLI - Sun Nov 29 09:45:04 MST 2020: Starting PMC2376335\n",
    "09:45:04.255 [scala-execution-context-global-178] INFO  org.clulab.reach.ReachCLI - Sun Nov 29 09:45:04 MST 2020: Starting PMC2376094\n",
    "09:45:04.254 [scala-execution-context-global-175] INFO  org.clulab.reach.ReachCLI - Sun Nov 29 09:45:04 MST 2020: Starting PMC2376180\n",
    "09:45:04.254 [scala-execution-context-global-168] INFO  org.clulab.reach.ReachCLI - Sun Nov 29 09:45:04 MST 2020: Starting PMC2376166\n",
    "09:45:04.253 [scala-execution-context-global-176] INFO  org.clulab.reach.ReachCLI - Sun Nov 29 09:45:04 MST 2020: Starting PMC2376107\n",
    "09:45:04.253 [scala-execution-context-global-173] INFO  org.clulab.reach.ReachCLI - Sun Nov 29 09:45:04 MST 2020: Starting PMC2376165\n",
    "[error] (run-main-0) java.lang.NoClassDefFoundError: Could not initialize class edu.cmu.dynet.internal.dynet_swigJNI\n",
    "[error] java.lang.NoClassDefFoundError: Could not initialize class edu.cmu.dynet.internal.dynet_swigJNI\n",
    "[error] \tat edu.cmu.dynet.internal.DynetParams.<init>(DynetParams.java:87)\n",
    "[error] \tat edu.cmu.dynet.Initialize$.initialize(Initialize.scala:14)\n",
    "[error] \tat org.clulab.polarity.ml.DeepLearningPolarityClassifier.initializeDyNet(DeepLearningPolarityClassifier.scala:747)\n",
    "[error] \tat org.clulab.polarity.ml.DeepLearningPolarityClassifier.<init>(DeepLearningPolarityClassifier.scala:74)\n",
    "[error] \tat org.clulab.polarity.PolarityEngine$.apply(PolarityEngine.scala:96)\n",
    "[error] \tat org.clulab.polarity.PolarityEngine$.engineFromConfig(PolarityEngine.scala:112)\n",
    "[error] \tat org.clulab.reach.darpa.DarpaActions.<init>(DarpaActions.scala:178)\n",
    "[error] \tat org.clulab.reach.ReachSystem.<init>(ReachSystem.scala:36)\n",
    "[error] \tat org.clulab.reach.PaperReader$.reachSystem$lzycompute(PaperReader.scala:45)\n",
    "[error] \tat org.clulab.reach.PaperReader$.reachSystem(PaperReader.scala:43)\n",
    "[error] \tat org.clulab.reach.PaperReader$.getMentionsFromEntry(PaperReader.scala:142)\n",
    "[error] \tat org.clulab.reach.ReachCLI.processPaper(ReachCLI.scala:124)\n",
    "[error] \tat org.clulab.reach.ReachCLI.$anonfun$processPapers$3(ReachCLI.scala:82)\n",
    "[error] \tat org.clulab.reach.ReachCLI.$anonfun$processPapers$3$adapted(ReachCLI.scala:76)\n",
    "[error] \tat scala.collection.parallel.AugmentedIterableIterator.map2combiner(RemainsIterator.scala:116)\n",
    "[error] \tat scala.collection.parallel.AugmentedIterableIterator.map2combiner$(RemainsIterator.scala:113)\n",
    "[error] \tat scala.collection.parallel.immutable.ParVector$ParVectorIterator.map2combiner(ParVector.scala:66)\n",
    "[error] \tat scala.collection.parallel.ParIterableLike$Map.leaf(ParIterableLike.scala:1056)\n",
    "[error] \tat scala.collection.parallel.Task.$anonfun$tryLeaf$1(Tasks.scala:53)\n",
    "[error] \tat scala.runtime.java8.JFunction0$mcV$sp.apply(JFunction0$mcV$sp.java:23)\n",
    "[error] \tat scala.util.control.Breaks$$anon$1.catchBreak(Breaks.scala:67)\n",
    "[error] \tat scala.collection.parallel.Task.tryLeaf(Tasks.scala:56)\n",
    "[error] \tat scala.collection.parallel.Task.tryLeaf$(Tasks.scala:50)\n",
    "[error] \tat scala.collection.parallel.ParIterableLike$Map.tryLeaf(ParIterableLike.scala:1053)\n",
    "[error] \tat scala.collection.parallel.AdaptiveWorkStealingTasks$WrappedTask.internal(Tasks.scala:160)\n",
    "[error] \tat scala.collection.parallel.AdaptiveWorkStealingTasks$WrappedTask.internal$(Tasks.scala:157)\n",
    "[error] \tat scala.collection.parallel.AdaptiveWorkStealingForkJoinTasks$WrappedTask.internal(Tasks.scala:440)\n",
    "[error] \tat scala.collection.parallel.AdaptiveWorkStealingTasks$WrappedTask.compute(Tasks.scala:150)\n",
    "[error] \tat scala.collection.parallel.AdaptiveWorkStealingTasks$WrappedTask.compute$(Tasks.scala:149)\n",
    "[error] \tat scala.collection.parallel.AdaptiveWorkStealingForkJoinTasks$WrappedTask.compute(Tasks.scala:440)\n",
    "[error] \tat java.util.concurrent.RecursiveAction.exec(RecursiveAction.java:189)\n",
    "[error] \tat java.util.concurrent.ForkJoinTask.doExec(ForkJoinTask.java:289)\n",
    "[error] \tat java.util.concurrent.ForkJoinTask.doJoin(ForkJoinTask.java:389)\n",
    "[error] \tat java.util.concurrent.ForkJoinTask.join(ForkJoinTask.java:719)\n",
    "[error] \tat scala.collection.parallel.ForkJoinTasks$WrappedTask.sync(Tasks.scala:379)\n",
    "[error] \tat scala.collection.parallel.ForkJoinTasks$WrappedTask.sync$(Tasks.scala:379)\n",
    "[error] \tat scala.collection.parallel.AdaptiveWorkStealingForkJoinTasks$WrappedTask.sync(Tasks.scala:440)\n",
    "[error] \tat scala.collection.parallel.ForkJoinTasks.executeAndWaitResult(Tasks.scala:423)\n",
    "[error] \tat scala.collection.parallel.ForkJoinTasks.executeAndWaitResult$(Tasks.scala:416)\n",
    "[error] \tat scala.collection.parallel.ForkJoinTaskSupport.executeAndWaitResult(TaskSupport.scala:60)\n",
    "[error] \tat scala.collection.parallel.ExecutionContextTasks.executeAndWaitResult(Tasks.scala:555)\n",
    "[error] \tat scala.collection.parallel.ExecutionContextTasks.executeAndWaitResult$(Tasks.scala:555)\n",
    "[error] \tat scala.collection.parallel.ExecutionContextTaskSupport.executeAndWaitResult(TaskSupport.scala:84)\n",
    "[error] \tat scala.collection.parallel.ParIterableLike$ResultMapping.leaf(ParIterableLike.scala:960)\n",
    "[error] \tat scala.collection.parallel.Task.$anonfun$tryLeaf$1(Tasks.scala:53)\n",
    "[error] \tat scala.runtime.java8.JFunction0$mcV$sp.apply(JFunction0$mcV$sp.java:23)\n",
    "[error] \tat scala.util.control.Breaks$$anon$1.catchBreak(Breaks.scala:67)\n",
    "[error] \tat scala.collection.parallel.Task.tryLeaf(Tasks.scala:56)\n",
    "[error] \tat scala.collection.parallel.Task.tryLeaf$(Tasks.scala:50)\n",
    "[error] \tat scala.collection.parallel.ParIterableLike$ResultMapping.tryLeaf(ParIterableLike.scala:955)\n",
    "[error] \tat scala.collection.parallel.AdaptiveWorkStealingTasks$WrappedTask.compute(Tasks.scala:153)\n",
    "[error] \tat scala.collection.parallel.AdaptiveWorkStealingTasks$WrappedTask.compute$(Tasks.scala:149)\n",
    "[error] \tat scala.collection.parallel.AdaptiveWorkStealingForkJoinTasks$WrappedTask.compute(Tasks.scala:440)\n",
    "[error] \tat java.util.concurrent.RecursiveAction.exec(RecursiveAction.java:189)\n",
    "[error] \tat java.util.concurrent.ForkJoinTask.doExec(ForkJoinTask.java:289)\n",
    "[error] \tat java.util.concurrent.ForkJoinPool$WorkQueue.runTask(ForkJoinPool.java:1056)\n",
    "[error] \tat java.util.concurrent.ForkJoinPool.runWorker(ForkJoinPool.java:1692)\n",
    "[error] \tat java.util.concurrent.ForkJoinWorkerThread.run(ForkJoinWorkerThread.java:175)\n",
    "[error] stack trace is suppressed; run last Compile / bgRunMain for the full output\n",
    "[error] Nonzero exit code: 1\n",
    "[error] (Compile / runMain) Nonzero exit code: 1\n",
    "[error] Total time: 27 s, completed Nov 29, 2020 9:45:05 AM"
   ]
  },
  {
   "cell_type": "markdown",
   "metadata": {},
   "source": []
  },
  {
   "cell_type": "markdown",
   "metadata": {},
   "source": [
    "# Ocelote Modules"
   ]
  },
  {
   "cell_type": "code",
   "execution_count": null,
   "metadata": {},
   "outputs": [],
   "source": [
    "------------------------------------------------------------ /cm/local/modulefiles ------------------------------------------------------------\n",
    "cluster-tools/8.1  cmsh  freeipmi/1.5.7  gcc/5.5.0           gcc/7.2.0        lua/5.3.4   module-info  openldap  \n",
    "cmd                dot   gcc/5.2.0       gcc/6.1.0(default)  ipmitool/1.8.18  module-git  null         shared    \n",
    "\n",
    "----------------------------------------------------------- /cm/shared/modulefiles ------------------------------------------------------------\n",
    "blacs/mpichge/intel/64/1.1patch03  default-environment                      intel/mkl/mic/11.3.4/2016.4.258         \n",
    "blas/gcc/64/3.8.0                  fftw2/openmpi/gcc/64/double/2.1.5        intel/mkl/mic/11.3.4/2016.8.266         \n",
    "blas/intel/64/3.8.0                fftw2/openmpi/gcc/64/float/2.1.5         intel/mpi/32/16.0.4/2016.4.258          \n",
    "blas/pgi/64/3.8.0                  fftw3/openmpi/gcc/64/3.3.7               intel/mpi/32/16.0.8/2016.8.266          \n",
    "bonnie++/1.97.3                    gdb/8.0.1                                intel/mpi/64(default)                   \n",
    "cuda10.0/blas/10.0.130             hdf5_18/1.8.20                           intel/mpi/64/5.1.3/2016.4.258(default)  \n",
    "cuda10.0/fft/10.0.130              hwloc/1.11.8                             intel/mpi/64/5.1.3/2016.8.266           \n",
    "cuda10.0/nsight/10.0.130           intel-cluster-checker/2.2.2              intel/mpi/mic/5.1.3/2016.4.258          \n",
    "cuda10.0/profiler/10.0.130         intel-cluster-runtime/ia32/2017.0        intel/mpi/mic/5.1.3/2016.8.266          \n",
    "cuda10.0/toolkit/10.0.130          intel-cluster-runtime/intel64(default)   intel/tbb/32/4.4.6/2016.4.258           \n",
    "cuda10.1/blas/10.1.243             intel-cluster-runtime/intel64/2017.0     intel/tbb/32/4.4.6/2016.8.266           \n",
    "cuda10.1/fft/10.1.243              intel-cluster-runtime/mic/2017.0         intel/tbb/64(default)                   \n",
    "cuda10.1/nsight/10.1.243           intel/compiler/32/16.0.4/2016.4.258      intel/tbb/64/4.4.6/2016.4.258(default)  \n",
    "cuda10.1/profiler/10.1.243         intel/compiler/32/16.0.8/2016.8.266      intel/tbb/64/4.4.6/2016.8.266           \n",
    "cuda10.1/toolkit/10.1.243          intel/compiler/64(default)               intel/tbb/mic/4.4.6/2016.4.258          \n",
    "cuda75/blas/7.5.18                 intel/compiler/64/16.0.4(default)        intel/tbb/mic/4.4.6/2016.8.266          \n",
    "cuda75/fft/7.5.18                  intel/compiler/64/16.0.4/2016.4.258      iozone/3_471                            \n",
    "cuda75/gdk/352.79                  intel/compiler/64/16.0.8/2016.8.266      lapack/gcc/64/3.8.0                     \n",
    "cuda75/nsight/7.5.18               intel/daal/32/2016.4/2016.4.258          lapack/intel/64/3.8.0                   \n",
    "cuda75/profiler/7.5.18             intel/daal/32/2016.8/2016.8.266          lapack/pgi/64/3.8.0                     \n",
    "cuda75/toolkit/7.5.18              intel/daal/64/2016.4(default)            mpich/ge/gcc/64/3.2.1                   \n",
    "cuda80/blas/8.0.61                 intel/daal/64/2016.4/2016.4.258          mpich/ge/intel/64/3.2.1                 \n",
    "cuda80/fft/8.0.61                  intel/daal/64/2016.8/2016.8.266          mvapich/gcc/64/1.2rc1                   \n",
    "cuda80/gdk/352.79                  intel/gdb/32/7.8.0/2016.4.258            mvapich/intel/64/1.2rc1                 \n",
    "cuda80/nsight/8.0.61               intel/gdb/32/7.8.0/2016.8.266            mvapich2/gcc/64/2.3b                    \n",
    "cuda80/profiler/8.0.61             intel/gdb/64/7.8.0/2016.4.258(default)   mvapich2/intel/64/2.3b                  \n",
    "cuda80/toolkit/8.0.61              intel/gdb/64/7.8.0/2016.8.266            netcdf/gcc/64/4.4.0                     \n",
    "cuda90/blas/9.0.176                intel/ipp/32/9.0.4/2016.4.258            netcdf/gcc/64/4.5.0                     \n",
    "cuda90/fft/9.0.176                 intel/ipp/32/9.0.4/2016.8.266            netcdf/intel/64/4.4.0                   \n",
    "cuda90/nsight/9.0.176              intel/ipp/64/9.0.4/2016.4.258(default)   netcdf/intel/64/4.5.0                   \n",
    "cuda90/profiler/9.0.176            intel/ipp/64/9.0.4/2016.8.266            netperf/2.7.0                           \n",
    "cuda90/toolkit/9.0.176             intel/itac/9.1.2/024                     openblas/dynamic(default)               \n",
    "cuda91/blas/9.1.85                 intel/mkl/32/11.3.4/2016.4.258           openblas/dynamic/0.2.20                 \n",
    "cuda91/fft/9.1.85                  intel/mkl/32/11.3.4/2016.8.266           scalapack/mvapich2/intel/64/2.0.2       \n",
    "cuda91/nsight/9.1.85               intel/mkl/64(default)                    scalapack/openmpi/intel/64/2.0.2        \n",
    "cuda91/profiler/9.1.85             intel/mkl/64/11.3.4/2016.4.258(default)  \n",
    "cuda91/toolkit/9.1.85              intel/mkl/64/11.3.4/2016.8.266           \n",
    "\n",
    "---------------------------------------------------------- /cm/shared/uamodulefiles -----------------------------------------------------------\n",
    "abaqus/6.14-1                fastqc/0.11.5                 matlab/r2018b                 quantum-espresso/6/6.3              wham/1/1.7.0     \n",
    "abaqus/2018(default)         fastqtl/2/2.184               matlab/r2019a                 R/3.4.4                             wien2k/18/18.2   \n",
    "abaqus/2018/2018-am          fasttree/2/2.1.10             matlab/r2020a                 R/3.5.1                             xdmf/3           \n",
    "abyss/1.9.0                  fastx/0.0.14                  maven/3/3.3.9                 R/3.6.1                             xz/5.2.2         \n",
    "abyss/mpi/1.9.0              ffmpeg/4/4.1                  mcl/11/11-294                 raxml/8/8.2                         zlib/1.2.8       \n",
    "allpathslg/44837             fftw/3/mpich/ge/gcc/3.3.8     meme/4/4.12.0                 relion/2/2.0                        zlib/1.2/1.2.11  \n",
    "anaconda/2019(default)       flashpca/2/2.0                metaphlan2/2/2.0              remora/1/1.8.2a                     \n",
    "anaconda/2019/2019.07        fraggenescan/1.30             migrate/4/4.2.14              repeatmasker/4.0.7                  \n",
    "anaconda/2020/2020.02        freebayes/1.0.2               moose/1708                    repeatmasker/4/4.0.7                \n",
    "ansys/18/18.2                freebayes/1/1.0.2             mothur/1/1.39.5               rings/1/1.3.1                       \n",
    "ansys/19.0                   freec/11/11.5                 mothur/1/1.43                 rmblast/2.2/2.2.28                  \n",
    "ansys/19/19.5                freesurfer/6/6.0.0            mrbayes/3/3.2.6               root-cern/6/6.08.06                 \n",
    "ansys/20/20.1                gatk/4/4.1.4.1                mummer/3/3.23                 ruby/2/2.3.1                        \n",
    "ant/1.9/1.9.7                gaussian/g09(default)         namd_cuda/2018-03             salmon/0/0.9.1                      \n",
    "augustus/3/3.2.3             gaussian/g09-D.01             ncl_ncarg/6/6.4.0             salmon/0/0.14.1                     \n",
    "autoconf/2.69                gaussian/g16                  nco/4.7/4.7.7                 salmon/1/1.2.1                      \n",
    "autogen/5/5.18               gdal/2/2.3.0                  netcdf/fortran/gcc/4/4.4.4    samtools/1.4                        \n",
    "bamtools/2/2.4.1             gdal/2/2.4.2                  netcdf/fortran/intel/4/4.4.4  samtools/1/1.3.1                    \n",
    "bbmap/36.30                  geos/3.5/3.5.1                netlogo/6/6.0.0               samtools/1/1.4                      \n",
    "bcftools/1.3.1               git/2.9                       netlogo/6/6.0.4               sas/9.4                             \n",
    "beagle-lib/2/2.1.2           gmap/2016-08-24               netlogo/6/6.1.0               sbt/1/1.0.3                         \n",
    "beagle-lib/3/3.1             go/1.11/1.11.1                openfoam/5/5.0                scala/2.12/2.12.4                   \n",
    "beast/2/2.5.1                go/1.13/1.13.8                openmpi/gcc/1.10.2(default)   schrodinger/2018/2018-2             \n",
    "bedtools/2.26.0              google-cloud-sdk/267/267.0.0  openmpi/gcc/1/1.10.2          seqlogo/2.8.2                       \n",
    "blast/2/2.6.0                gossamer/1/1.3.0-dev          openmpi/gcc/1/1.10.7          shapeit/2/2-r900                    \n",
    "blat/341                     gromacs/2018/2018             openmpi/gcc/2/2.1.1           signalp/4.1                         \n",
    "boost/1.61.0                 gromacs/2020/2020.2           openmpi/gcc/3/3.1.1           silo/4/4.10.2                       \n",
    "boost/1/1.61.0               gsl/2/2.1                     openmpi/gcc/3/3.1.4           singularity/3/3.6.4                 \n",
    "boost/1/1.65.1               gsl/2/2.5                     opensees/2.4.4                slim/3/3.2.1                        \n",
    "bowtie/1.1.2                 gurobi/7/7.5.1                orthofinder/2/2.2.0           snap/2013-11-29                     \n",
    "bowtie2/2.2.9                hdf5-intel/1/1.10.3           pandaseq/2/2.11               snpeff/4/4.3                        \n",
    "bwa/0.7.17/0.7.17            hdf5/1.8.18                   parallel/20170622/20170622    soapdenovo/2/2.04                   \n",
    "bzip2/1.0.6                  hmmer/3.1                     paraview/5/5.2.0-rc2          spades/3/3.13.0                     \n",
    "caffe/nvidia/0.17.3          htslib/1/1.9                  paraview/5/5.6.0              spark/2.3.1                         \n",
    "canu/1/1.5                   hypre/2/2.9.0b                paraview_osmesa/5/5.6.0       sparsehash/2.0.2                    \n",
    "canu/1/1.9                   idl/8/8.2                     parflow/3/3.6.0               spectra/0/0.6.2                     \n",
    "centrifuge/1/1.0.3-beta      intel/2019(default)           parmetis/4.0.3                speedseq/2018/2018.02.08            \n",
    "cern-root/6/6.08.06          intel/2019/2019.1-32          pbspro/18.2.1                 spparks/2017/18May17                \n",
    "cfitsio/3/3.450              intel/2019/2019.1-64          pbspro/18.2.3                 sratoolkit/2/2.10.0                 \n",
    "chapel/1.13.1                intel/2019/2019.3             pbspro/19.2.3                 stacks/1/1.47                       \n",
    "chimera/1/1.14               iqtree/1.6/1.6.11             pbspro/19.2.4                 stacks/2/2.4                        \n",
    "cluster/3.0                  jags/4/4.2.0                  pcre/8.38                     star/2/2.5.2b                       \n",
    "cmake3/3.15.3                java/1.8                      peridigm/1.5.0                star/2/2.7.3a                       \n",
    "comsol/5.3                   java/7/1.7                    perl/5.22.1                   starfusion/1.8.1                    \n",
    "comsol/5.5                   java/8/1.8                    petsc/3/3.8.0                 tensorflow/nvidia/1.13.1            \n",
    "coot/0/0.8.9.2               jellyfish/2/2.2.10            petsc/3/3.10.3(default)       tensorflow/nvidia/2.0.0             \n",
    "cplex/12/12.7.1              julia/1/1.0.0                 pgi/2018/2018-184             tensorrt/6/6.0.1.5                  \n",
    "cplex/12/12.9                julia/1/1.3.0                 phdf5-intel/1.10/1.10.3       theano/nvidia/1.0.2                 \n",
    "cuda75/neuralnet/6/6.0       julia/1/1.4.2                 phdf5/1.10/1.10.3             tmhmm/2.0c                          \n",
    "cuda80/neuralnet/5/5.1       julia/1/1.5.0                 phenix/1/1.18.2               tophat/2.1.1                        \n",
    "cuda80/neuralnet/6/6.0       kallisto/0/0.46.1             photoscan-pro/1/1.4.3         trf/4.0.9                           \n",
    "cuda90/neuralnet/7/7.3.1.20  lammps/gcc/7Aug19             picard/2/2.21.8               trilinos/12/12.12.1                 \n",
    "cuda91/neuralnet/7/7         lammps/gcc/11Aug17            plink/1.9                     trimmomatic/0/0.39                  \n",
    "cuda101/neuralnet/7/7.6.4    lammps/gcc/16Mar18            pnetcdf/1/1.10.0              trinity/2/2.8.4                     \n",
    "cufflinks/2.2.1              libpng/16/1.6.37              proj/4/4.9.3                  trinity/2/2.10.0                    \n",
    "curl/7.49.0                  libtool/2/2.4.6               proj/5/5.2.0                  trinotate/3.0.1                     \n",
    "dbg2olc/20160205             lsopt/5/5.2.1                 python/2.7/2.7.14             unsupported/1.0                     \n",
    "ddocent/2/2.2.16             lsopt/6/6.0.0                 python/2/2.7.14               vcftools/0/0.1.13                   \n",
    "diamond/0.8.16               mafft/7.305                   python/3.5/3.5.5              vcftools/2543f81                    \n",
    "ea-utils/1.1.2               magma/2/2.5.3                 python/3.6/3.6.5              velvet/15Aug14                      \n",
    "eigen/3/3.3.5                maker/2.31.8                  python/3/3.5.5                visit/2/2.13.0                      \n",
    "exonerate/2.2.0              mathematica/11/11.3.0         pytorch/nvidia/20.01          vtune_amplifier_xe/2016/2016.4.258  \n",
    "fastme/2/2.1.6.1             matlab/r2018a                 qctool/2/2.0.3                wgs/8.3    "
   ]
  },
  {
   "cell_type": "markdown",
   "metadata": {},
   "source": [
    "# El Gato Modules"
   ]
  },
  {
   "cell_type": "code",
   "execution_count": null,
   "metadata": {},
   "outputs": [],
   "source": [
    "--------------------------------------------------- /opt/ohpc/pub/moduledeps/gnu8-openmpi3 ----------------------------------------------------\n",
    "   boost/1.71.0     fftw/3.3.8    netcdf-cxx/4.3.1        omb/5.6.2       pnetcdf/1.12.0     scorep/6.0       trilinos/12.14.1\n",
    "   dimemas/5.4.1    imb/2018.1    netcdf-fortran/4.5.2    petsc/3.12.0    scalapack/2.0.2    sionlib/1.7.4\n",
    "   extrae/3.7.0     mpiP/3.4.1    netcdf/4.7.1            phdf5/1.10.5    scalasca/2.5       tau/2.28\n",
    "\n",
    "-------------------------------------------------------- /opt/ohpc/pub/moduledeps/gnu8 --------------------------------------------------------\n",
    "   R/3.6.1    hdf5/1.10.5     metis/5.1.0    mvapich2/2.3.2    openmpi3/3.1.4 (L)    plasma/2.8.0    superlu/5.2.1\n",
    "   gsl/2.6    likwid/4.3.4    mpich/3.3.1    openblas/0.3.7    pdtoolkit/3.25        scotch/6.0.6\n",
    "\n",
    "---------------------------------------------------------- /opt/ohpc/pub/modulefiles ----------------------------------------------------------\n",
    "   autotools          (L)    dealii/9.1.1        gsl-intel/2.5            intel/2019.3         paraview/5.8.1            su2/7.0.3\n",
    "   beagle-lib/3.1.2          gnu/5.4.0           gsl-intel/2.6     (D)    llvm5/5.0.1          phdf5-intel/1.10.3        su2p/7.0.3\n",
    "   clustershell/1.8.2        gnu8/8.3.0   (L)    hdf5-intel/1.8.18        matlab/r2019a        prun/1.3           (L)    valgrind/3.15.0\n",
    "   comsol/5.5                go/1.12.5           hdf5-intel/1.10.3 (D)    matlab/r2020b (D)    python/3.5/3.5.5   (D)\n",
    "   cuda10/10.1               go/1.13.8           hwloc/2.1.0              ohpc          (L)    python/3.8/3.8.0\n",
    "   cuda11/11.0               go/1.14.5    (D)    idl/8.2                  papi/5.7.0           singularity/3.6.4\n",
    "\n",
    "  Where:\n",
    "   D:  Default Module\n",
    "   L:  Module is loaded"
   ]
  },
  {
   "cell_type": "markdown",
   "metadata": {},
   "source": [
    "# Puma Modules"
   ]
  },
  {
   "cell_type": "code",
   "execution_count": null,
   "metadata": {},
   "outputs": [],
   "source": [
    "--------------------------------------------------- /opt/ohpc/pub/moduledeps/gnu8-openmpi3 ----------------------------------------------------\n",
    "   abyss/2.2.4        hypre/2.11.2         meme/5.1.1              openfoam/20.06        pnetcdf/1.12.0          scalapack/2.0.2\n",
    "   cp2k-cuda/7.1.0    lammps/3Mar20        moose/1.0.0             parflow/3.7.0         quantum-espresso/6.6    trilinos/12.14.1\n",
    "   cp2k/7.1.0         libmesh-dbg/1.5.1    netcdf-cxx/4.3.1        petsc/3.13.1          relion/3.1.0\n",
    "   gromacs/2020.2     libmesh-opt/1.5.1    netcdf-fortran/4.5.2    phdf5/1.10.5          remora/1.8.2a\n",
    "   hwloc/2.2.0        maker/3.01.03        netcdf/4.7.1            phdf5/1.12.0   (D)    samrai/4.0.3\n",
    "\n",
    "-------------------------------------------------------- /opt/ohpc/pub/moduledeps/gnu8 --------------------------------------------------------\n",
    "   atlas/3.10.3        blat/36            gsl/2.6             nco/4.9.3                qctool/2.0.8        star/2.7.3a\n",
    "   augustus/3.3.3      bwa/0.7.17         hdf5/1.10.5         openblas/0.3.7           samtools/1.10       superlu/5.2.1\n",
    "   bamtools/2.5.1      canu/2.0           jellyfish/2.2.10    openmpi3/3.1.4    (L)    silo/4.10.2         trimmomatic/0.33\n",
    "   bcftools/1.10.2     fastme/2.1.6.1     mcl/14-137          papi/6.0.0               slim/3.2.1          trinity/2.10.0\n",
    "   beagle-lib/3.1      ffmpeg/4.1         mpich/3.3.1         parallel/20200422        sparsehash/2.0.3    vcftools/0.1.16\n",
    "   bedtools2/2.29.2    freebayes/1.3.2    ncbi-vdb/2.10.8     plasma/2.8.0             stacks/2.54\n",
    "\n",
    "---------------------------------------------------------- /opt/ohpc/pub/modulefiles ----------------------------------------------------------\n",
    "   R/4.0.0                    comsol/5.5               hpctoolkit/2020.06                ngs-sdk/2.10.8              rsem/1.3.3\n",
    "   abaqus/2020-am             contrib/1.0              hpctraceviewer/2020.06            ohpc                 (L)    salmon/1.2.1\n",
    "   amira/2020.2               coot/0.8.9.2             hpcviewer/2020.06                 orthofinder/2.4.0           sas/9.4\n",
    "   anaconda/2020.02           cplex/12.9               idl/8.2                           orthofinder/2.4.1    (D)    sbt/1.3.13\n",
    "   ansys/20.1                 cuda11-dnn/8.0.2         intel/2020.1                      paraview/5.8.1              shapeit/2.904\n",
    "   ant/1.10.8                 cuda11-sdk/20.7          intel/2020.4               (D)    phdf5-intel/1.12.0          signalp/5.0b\n",
    "   aocl-blis/2.2              cuda11/11.0              iqtree/1.6.12                     phenix/1.18.2               snap/2013-11-29\n",
    "   aocl-fftw/2.2              cufflinks/2.2.1          julia/1.4.1                       picard/2.23.4               spades/3.14.1\n",
    "   aocl-libflame/2.2          eigen/3.3.8              kallisto/0.46.1                   plink/1.9                   sratoolkit/2.10.8\n",
    "   aocl-scalapack/2.2         exonerate/2.2.0          libpng/1.6.37                     pmix/2.2.2                  starfusion/1.8.1\n",
    "   aocl-sparse/2.2            fastqc/0.11.9            lsopt/6.0.0                       proj/5.2.0                  stata/16\n",
    "   autotools           (L)    fasttree/2.1.11          mafft/7.471                       prun/1.3             (L)    tecplot/2020r1\n",
    "   bbmap/38.84                fastx/0.0.13             mathematica/11.3.0                pymol/2.4.0                 tensorflow/nvidia/2.0.0\n",
    "   beast2/2.6.3               fiji/2.1.1               matlab/r2020a                     python/3.6/3.6.5            theano/nvidia/1.0.2\n",
    "   blast/2.10.0               gnu/5.4.0                matlab/r2020b              (D)    python/3.8/3.8.2            tmhmm/2.0c\n",
    "   blender/2.83.5             gnu7/7.3.0               maven/3.6.3                       pytorch/nvidia/20.01        trf/4.0.9\n",
    "   bowtie2/2.4.1              gnu8/8.3.0        (L)    mothur/1.44.3                     qt5/5.14.2                  vasp/5.4.4\n",
    "   caffe/nvidia/0.17.3        go/1.15.2                ncl_ncarg/6.6.2                   rapids/nvidia/10.2          visit/3.1.2\n",
    "   ccp4/7.1                   gotcha/1.0.3             netcdf-cxx/intel/4.3.1            raxml/8.2.12                vmd/1.9.3\n",
    "   cern-root/6.20.04          hdf5-intel/1.12.0        netcdf-fortran/intel/4.5.3        repeatmasker/4.0.7          wien2k/18.2\n",
    "   clustershell/1.8.2         hisat2/2.2.1             netcdf-intel/4.7.4                rmblast/2.10.0\n",
    "   cmake/3.15.4               hmmer/3.3.1              netlogo/6.1.1                     rnaseqc/2.3.6\n",
    "\n",
    "  Where:\n",
    "   D:  Default Module\n",
    "   L:  Module is loaded"
   ]
  },
  {
   "cell_type": "markdown",
   "metadata": {},
   "source": [
    "# Install `Glibc` "
   ]
  },
  {
   "cell_type": "markdown",
   "metadata": {},
   "source": [
    "You cannot update glibc on Centos 6 safely. However you can install 2.14 alongside 2.12 easily, then use it to compile projects etc. Here is how:"
   ]
  },
  {
   "cell_type": "code",
   "execution_count": null,
   "metadata": {},
   "outputs": [],
   "source": [
    "mkdir ~/glibc_install; cd ~/glibc_install \n",
    "\n",
    "wget http://ftp.gnu.org/gnu/glibc/glibc-2.14.tar.gz\n",
    "\n",
    "tar zxvf glibc-2.14.tar.gz\n",
    "\n",
    "cd glibc-2.14\n",
    "\n",
    "mkdir build\n",
    "\n",
    "cd build\n",
    "\n",
    "../configure --prefix=/home/u15/sateeshp/glibc-2.14\n",
    "\n",
    "make -j4\n",
    "\n",
    "make install\n",
    "\n",
    "export LD_LIBRARY_PATH=\"/home/u15/sateeshp/glibc-2.14/lib${LD_LIBRARY_PATH:+:$LD_LIBRARY_PATH}\""
   ]
  },
  {
   "cell_type": "markdown",
   "metadata": {},
   "source": [
    "## Does not compile on Ocelote & Elgato due to `gcc` incompatibility"
   ]
  },
  {
   "cell_type": "markdown",
   "metadata": {},
   "source": [
    "# Complies on Puma with errors"
   ]
  },
  {
   "cell_type": "code",
   "execution_count": null,
   "metadata": {},
   "outputs": [],
   "source": [
    "make[2]: Leaving directory `/home/u15/sateeshp/glibc_install/glibc-2.14/elf'\n",
    "(sed '/^@/d' include/stubs-prologue.h; LC_ALL=C sort /home/u15/sateeshp/glibc_install/glibc-2.14/build/csu/stubs /home/u15/sateeshp/glibc_install/glibc-2.14/build/iconv/stubs /home/u15/sateeshp/glibc_install/glibc-2.14/build/locale/stubs /home/u15/sateeshp/glibc_install/glibc-2.14/build/localedata/stubs /home/u15/sateeshp/glibc_install/glibc-2.14/build/iconvdata/stubs /home/u15/sateeshp/glibc_install/glibc-2.14/build/assert/stubs /home/u15/sateeshp/glibc_install/glibc-2.14/build/ctype/stubs /home/u15/sateeshp/glibc_install/glibc-2.14/build/intl/stubs /home/u15/sateeshp/glibc_install/glibc-2.14/build/catgets/stubs /home/u15/sateeshp/glibc_install/glibc-2.14/build/math/stubs /home/u15/sateeshp/glibc_install/glibc-2.14/build/setjmp/stubs /home/u15/sateeshp/glibc_install/glibc-2.14/build/signal/stubs /home/u15/sateeshp/glibc_install/glibc-2.14/build/stdlib/stubs /home/u15/sateeshp/glibc_install/glibc-2.14/build/stdio-common/stubs /home/u15/sateeshp/glibc_install/glibc-2.14/build/libio/stubs /home/u15/sateeshp/glibc_install/glibc-2.14/build/dlfcn/stubs /home/u15/sateeshp/glibc_install/glibc-2.14/build/malloc/stubs /home/u15/sateeshp/glibc_install/glibc-2.14/build/string/stubs /home/u15/sateeshp/glibc_install/glibc-2.14/build/wcsmbs/stubs /home/u15/sateeshp/glibc_install/glibc-2.14/build/timezone/stubs /home/u15/sateeshp/glibc_install/glibc-2.14/build/time/stubs /home/u15/sateeshp/glibc_install/glibc-2.14/build/dirent/stubs /home/u15/sateeshp/glibc_install/glibc-2.14/build/grp/stubs /home/u15/sateeshp/glibc_install/glibc-2.14/build/pwd/stubs /home/u15/sateeshp/glibc_install/glibc-2.14/build/posix/stubs /home/u15/sateeshp/glibc_install/glibc-2.14/build/io/stubs /home/u15/sateeshp/glibc_install/glibc-2.14/build/termios/stubs /home/u15/sateeshp/glibc_install/glibc-2.14/build/resource/stubs /home/u15/sateeshp/glibc_install/glibc-2.14/build/misc/stubs /home/u15/sateeshp/glibc_install/glibc-2.14/build/socket/stubs /home/u15/sateeshp/glibc_install/glibc-2.14/build/sysvipc/stubs /home/u15/sateeshp/glibc_install/glibc-2.14/build/gmon/stubs /home/u15/sateeshp/glibc_install/glibc-2.14/build/gnulib/stubs /home/u15/sateeshp/glibc_install/glibc-2.14/build/wctype/stubs /home/u15/sateeshp/glibc_install/glibc-2.14/build/manual/stubs /home/u15/sateeshp/glibc_install/glibc-2.14/build/shadow/stubs /home/u15/sateeshp/glibc_install/glibc-2.14/build/gshadow/stubs /home/u15/sateeshp/glibc_install/glibc-2.14/build/po/stubs /home/u15/sateeshp/glibc_install/glibc-2.14/build/argp/stubs /home/u15/sateeshp/glibc_install/glibc-2.14/build/crypt/stubs /home/u15/sateeshp/glibc_install/glibc-2.14/build/nptl/stubs /home/u15/sateeshp/glibc_install/glibc-2.14/build/resolv/stubs /home/u15/sateeshp/glibc_install/glibc-2.14/build/nss/stubs /home/u15/sateeshp/glibc_install/glibc-2.14/build/rt/stubs /home/u15/sateeshp/glibc_install/glibc-2.14/build/conform/stubs /home/u15/sateeshp/glibc_install/glibc-2.14/build/debug/stubs /home/u15/sateeshp/glibc_install/glibc-2.14/build/libidn/stubs /home/u15/sateeshp/glibc_install/glibc-2.14/build/nptl_db/stubs /home/u15/sateeshp/glibc_install/glibc-2.14/build/inet/stubs /home/u15/sateeshp/glibc_install/glibc-2.14/build/hesiod/stubs /home/u15/sateeshp/glibc_install/glibc-2.14/build/sunrpc/stubs /home/u15/sateeshp/glibc_install/glibc-2.14/build/nis/stubs /home/u15/sateeshp/glibc_install/glibc-2.14/build/nscd/stubs /home/u15/sateeshp/glibc_install/glibc-2.14/build/streams/stubs /home/u15/sateeshp/glibc_install/glibc-2.14/build/login/stubs /home/u15/sateeshp/glibc_install/glibc-2.14/build/elf/stubs) > /home/u15/sateeshp/glibc_install/glibc-2.14/build/stubs.h\n",
    "if test -r /home/u15/sateeshp/glibc-2.14/include/gnu/stubs-64.h && cmp -s /home/u15/sateeshp/glibc_install/glibc-2.14/build/stubs.h /home/u15/sateeshp/glibc-2.14/include/gnu/stubs-64.h; \\\n",
    "then echo 'stubs.h unchanged'; \\\n",
    "else /usr/bin/install -c -m 644 /home/u15/sateeshp/glibc_install/glibc-2.14/build/stubs.h /home/u15/sateeshp/glibc-2.14/include/gnu/stubs-64.h; fi\n",
    "rm -f /home/u15/sateeshp/glibc_install/glibc-2.14/build/stubs.h\n",
    "/home/u15/sateeshp/glibc_install/glibc-2.14/build/elf/sln /home/u15/sateeshp/glibc_install/glibc-2.14/build/elf/symlink.list\n",
    "rm -f /home/u15/sateeshp/glibc_install/glibc-2.14/build/elf/symlink.list\n",
    "test ! -x /home/u15/sateeshp/glibc_install/glibc-2.14/build/elf/ldconfig || LC_ALL=C LANGUAGE=C \\\n",
    "  /home/u15/sateeshp/glibc_install/glibc-2.14/build/elf/ldconfig  \\\n",
    "\t\t\t       /home/u15/sateeshp/glibc-2.14/lib /home/u15/sateeshp/glibc-2.14/lib\n",
    "/home/u15/sateeshp/glibc_install/glibc-2.14/build/elf/ldconfig: Can't open configuration file /home/u15/sateeshp/glibc-2.14/etc/ld.so.conf: No such file or directory\n",
    "make[1]: Leaving directory `/home/u15/sateeshp/glibc_install/glibc-2.14'"
   ]
  },
  {
   "cell_type": "markdown",
   "metadata": {},
   "source": []
  },
  {
   "cell_type": "markdown",
   "metadata": {},
   "source": []
  },
  {
   "cell_type": "markdown",
   "metadata": {},
   "source": []
  },
  {
   "cell_type": "code",
   "execution_count": null,
   "metadata": {},
   "outputs": [],
   "source": [
    "https://public.confluence.arizona.edu/display/UAHPC/Installing+Software"
   ]
  },
  {
   "cell_type": "markdown",
   "metadata": {},
   "source": []
  }
 ],
 "metadata": {
  "kernelspec": {
   "display_name": "Python 3",
   "language": "python",
   "name": "python3"
  },
  "language_info": {
   "codemirror_mode": {
    "name": "ipython",
    "version": 3
   },
   "file_extension": ".py",
   "mimetype": "text/x-python",
   "name": "python",
   "nbconvert_exporter": "python",
   "pygments_lexer": "ipython3",
   "version": "3.7.6"
  }
 },
 "nbformat": 4,
 "nbformat_minor": 4
}
