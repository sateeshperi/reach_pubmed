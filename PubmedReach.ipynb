{
 "cells": [
  {
   "cell_type": "markdown",
   "metadata": {},
   "source": [
    "# Reading and Assembling Contextual and Holistic Mechanisms from Text"
   ]
  },
  {
   "cell_type": "markdown",
   "metadata": {},
   "source": [
    "11/28/2020"
   ]
  },
  {
   "cell_type": "markdown",
   "metadata": {},
   "source": [
    "Running reach on 17474 papers from 2020"
   ]
  },
  {
   "cell_type": "markdown",
   "metadata": {},
   "source": []
  },
  {
   "cell_type": "markdown",
   "metadata": {},
   "source": [
    "# Part-1 : Download open-access pubmed PMCIds"
   ]
  },
  {
   "cell_type": "markdown",
   "metadata": {},
   "source": [
    "[Open Access Pubmed FTP site](https://www.ncbi.nlm.nih.gov/pmc/tools/ftp/#index_files)"
   ]
  },
  {
   "cell_type": "markdown",
   "metadata": {},
   "source": [
    "Under the section \"Index Files for the PMC Open Access Subset\" -> Download the file `oa_file_list.txt`"
   ]
  },
  {
   "cell_type": "markdown",
   "metadata": {},
   "source": [
    "The `oa_file_list.txt` is divided into 5 fields, delimited by tab characters\n",
    "\n",
    "```oa_package/66/8b/PMC555938.tar.gz\tBMC Bioinformatics. 2005 Mar 7; 6:44\tPMC555938\tPMID:15748298\tCC BY```"
   ]
  },
  {
   "cell_type": "markdown",
   "metadata": {},
   "source": [
    "Subset the papers published in 2020\n",
    "\n",
    "`grep \". 2020\" oa_file_list.txt > 2020_papers.txt`"
   ]
  },
  {
   "cell_type": "markdown",
   "metadata": {},
   "source": [
    "Extract PMC Ids\n",
    "\n",
    "`cut -f 3 2020_papers.txt > 2020_pmcids.txt`"
   ]
  },
  {
   "cell_type": "markdown",
   "metadata": {},
   "source": [
    "Count the number of papers in the subset\n",
    "\n",
    "`wc -l 2020_pmcids.txt`"
   ]
  },
  {
   "cell_type": "markdown",
   "metadata": {},
   "source": [
    "17474"
   ]
  },
  {
   "cell_type": "markdown",
   "metadata": {},
   "source": [
    "# Part-2 : Fetch `nxml` version of PMCIds"
   ]
  },
  {
   "cell_type": "markdown",
   "metadata": {},
   "source": [
    "Nearly all of the papers in the Open Access subset of PubMed can be retrieved as `.nxml`. We will use a python script to retrieve the papers"
   ]
  },
  {
   "cell_type": "markdown",
   "metadata": {},
   "source": [
    "wget https://gist.githubusercontent.com/myedibleenso/f233359445461a71ad37017393fe921f/raw/982275ad8d5070e8c0bc5c07edcfec1cd804c611/fetch_nxml.py"
   ]
  },
  {
   "cell_type": "markdown",
   "metadata": {},
   "source": [
    "### Sample Usage\n",
    "python fetch_nxml.py --pmcids PMC1234 PMC1235"
   ]
  },
  {
   "cell_type": "markdown",
   "metadata": {},
   "source": [
    "### UNIX for-loop to download papers\n",
    "`for i in $(cat 2020_pmcids.txt); do python fetch_nxml.py --pmcids $i; done`"
   ]
  },
  {
   "cell_type": "markdown",
   "metadata": {},
   "source": []
  },
  {
   "cell_type": "markdown",
   "metadata": {},
   "source": [
    "# Part-3 : REACH on Atmosphere VM"
   ]
  },
  {
   "cell_type": "markdown",
   "metadata": {},
   "source": [
    "log in to Atmosphere and launch medium2 instance\n",
    "\n",
    "`large2 (CPU: 8, Mem: 48 GB, Disk: 320 GB root)`\n",
    "\n",
    "based on `Ubuntu 18.04 GUI XFCE Base v4.0`"
   ]
  },
  {
   "cell_type": "markdown",
   "metadata": {},
   "source": [
    "Install `java8` `scala-2.12` `sbt-1.4`"
   ]
  },
  {
   "cell_type": "code",
   "execution_count": null,
   "metadata": {},
   "outputs": [],
   "source": [
    "   72  add-apt-repository -y ppa:openjdk-r/ppa\n",
    "   73  sudo add-apt-repository -y ppa:openjdk-r/ppa\n",
    "   74  echo \"deb https://dl.bintray.com/sbt/debian /\" | tee -a /etc/apt/sources.list.d/sbt.list &&     apt-key adv --keyserver hkp://keyserver.ubuntu.com:80 --recv 2EE0EA64E40A89B84B2DF73499E82A75642AC823\n",
    "   75  sudo echo \"deb https://dl.bintray.com/sbt/debian /\" | tee -a /etc/apt/sources.list.d/sbt.list &&     apt-key adv --keyserver hkp://keyserver.ubuntu.com:80 --recv 2EE0EA64E40A89B84B2DF73499E82A75642AC823\n",
    "   76  sudo echo \"deb https://dl.bintray.com/sbt/debian /\" | tee -a /etc/apt/sources.list.d/sbt.list\n",
    "   77  echo \"deb https://dl.bintray.com/sbt/debian /\" | sudo tee -a /etc/apt/sources.list.d/sbt.list\n",
    "   78  sudo apt-get update\n",
    "   79  sudo apt-get install -y openjdk-8-jdk\n",
    "   80  wget -nv https://www.scala-lang.org/files/archive/scala-2.12.8.deb\n",
    "   81  ls\n",
    "   82  dpkg -i scala-2.12.8.deb\n",
    "   83  sudo dpkg -i scala-2.12.8.deb\n",
    "   84  rm scala-2.12.8.deb \n",
    "   85  sudo apt-get install -y sbt=1.4.0\n",
    "   86  sudo apt-key adv --keyserver hkp://keyserver.ubuntu.com:80 --recv 2EE0EA64E40A89B84B2DF73499E82A75642AC823\n",
    "   87  sudo apt-get install -y sbt=1.4.0\n",
    "   88  sudo apt-get update\n",
    "   89  sudo apt-get install -y sbt=1.4.0"
   ]
  },
  {
   "cell_type": "code",
   "execution_count": null,
   "metadata": {},
   "outputs": [],
   "source": [
    "cd /scratch"
   ]
  },
  {
   "cell_type": "markdown",
   "metadata": {},
   "source": [
    "git clone reach repo"
   ]
  },
  {
   "cell_type": "code",
   "execution_count": null,
   "metadata": {},
   "outputs": [],
   "source": [
    "git clone https://github.com/clulab/reach.git\n",
    "cd reach    "
   ]
  },
  {
   "cell_type": "markdown",
   "metadata": {},
   "source": [
    "modify application.conf with rootdir path & threads"
   ]
  },
  {
   "cell_type": "markdown",
   "metadata": {},
   "source": [
    "`nano main/src/main/resources/application.conf`"
   ]
  },
  {
   "cell_type": "code",
   "execution_count": null,
   "metadata": {},
   "outputs": [],
   "source": [
    "rootDir = /scratch/reach\n",
    "\n",
    "threadLimit = 21"
   ]
  },
  {
   "cell_type": "markdown",
   "metadata": {},
   "source": [
    "Make papers folder in the reach directory & copy some nxml's into it"
   ]
  },
  {
   "cell_type": "code",
   "execution_count": null,
   "metadata": {},
   "outputs": [],
   "source": [
    "mkdir papers"
   ]
  },
  {
   "cell_type": "code",
   "execution_count": null,
   "metadata": {},
   "outputs": [],
   "source": [
    "java -version\n",
    "openjdk version \"1.8.0_275\"\n",
    "OpenJDK Runtime Environment (build 1.8.0_275-8u275-b01-0ubuntu1~18.04-b01)\n",
    "OpenJDK 64-Bit Server VM (build 25.275-b01, mixed mode)"
   ]
  },
  {
   "cell_type": "code",
   "execution_count": null,
   "metadata": {},
   "outputs": [],
   "source": [
    "sbt sbtVersion\n",
    "[info] welcome to sbt 1.4.0 (Private Build Java 1.8.0_275)\n",
    "[info] loading settings for project reach-build from plugins.sbt ...\n",
    "[info] loading project definition from /scratch/reach/project\n",
    "[info] loading settings for project root from build.sbt,version.sbt ...\n",
    "[info] loading settings for project processors from build.sbt ...\n",
    "[info] loading settings for project main from build.sbt ...\n",
    "[info] loading settings for project export from build.sbt ...\n",
    "[info] set current project to reach-exe (in build file:/scratch/reach/)\n",
    "[warn] there's a key that's not used by any other settings/tasks:\n",
    "[warn]  \n",
    "[warn] * root / releaseProcess\n",
    "[warn]   +- /scratch/reach/build.sbt:105\n",
    "[warn]  \n",
    "[warn] note: a setting might still be used by a command; to exclude a key from this `lintUnused` check\n",
    "[warn] either append it to `Global / excludeLintKeys` or call .withRank(KeyRanks.Invisible) on the key\n",
    "[info] main / sbtVersion\n",
    "[info] \t1.4.0\n",
    "[info] export / sbtVersion\n",
    "[info] \t1.4.0\n",
    "[info] sbtVersion\n",
    "[info] \t1.4.0"
   ]
  },
  {
   "cell_type": "code",
   "execution_count": null,
   "metadata": {},
   "outputs": [],
   "source": [
    "sbt 'runMain org.clulab.processors.server.ProcessorServer'"
   ]
  },
  {
   "cell_type": "code",
   "execution_count": null,
   "metadata": {},
   "outputs": [],
   "source": [
    "[info] welcome to sbt 1.4.0 (Private Build Java 1.8.0_275)\n",
    "[info] loading settings for project reach-build from plugins.sbt ...\n",
    "[info] loading project definition from /scratch/reach/project\n",
    "[info] loading settings for project root from build.sbt,version.sbt ...\n",
    "[info] loading settings for project processors from build.sbt ...\n",
    "[info] loading settings for project main from build.sbt ...\n",
    "[info] loading settings for project export from build.sbt ...\n",
    "[info] set current project to reach-exe (in build file:/scratch/reach/)\n",
    "[warn] there's a key that's not used by any other settings/tasks:\n",
    "[warn]  \n",
    "[warn] * root / releaseProcess\n",
    "[warn]   +- /scratch/reach/build.sbt:105\n",
    "[warn]  \n",
    "[warn] note: a setting might still be used by a command; to exclude a key from this `lintUnused` check\n",
    "[warn] either append it to `Global / excludeLintKeys` or call .withRank(KeyRanks.Invisible) on the key\n",
    "[info] running org.clulab.processors.server.ProcessorServer \n",
    "[error] (run-main-0) java.lang.ClassNotFoundException: org.clulab.processors.server.ProcessorServer\n",
    "[error] java.lang.ClassNotFoundException: org.clulab.processors.server.ProcessorServer\n",
    "[error] \tat java.net.URLClassLoader.findClass(URLClassLoader.java:382)\n",
    "[error] stack trace is suppressed; run last Compile / bgRunMain for the full output\n",
    "[error] Nonzero exit code: 1\n",
    "[error] (Compile / runMain) Nonzero exit code: 1\n",
    "[error] Total time: 27 s, completed Nov 29, 2020 9:49:24 AM"
   ]
  },
  {
   "cell_type": "code",
   "execution_count": null,
   "metadata": {},
   "outputs": [],
   "source": [
    "sbt 'runMain org.clulab.reach.RunReachCLI'"
   ]
  },
  {
   "cell_type": "code",
   "execution_count": null,
   "metadata": {},
   "outputs": [],
   "source": [
    "[info] welcome to sbt 1.4.0 (Private Build Java 1.8.0_275)\n",
    "[info] loading settings for project reach-build from plugins.sbt ...\n",
    "[info] loading project definition from /scratch/reach/project\n",
    "[info] loading settings for project root from build.sbt,version.sbt ...\n",
    "[info] loading settings for project processors from build.sbt ...\n",
    "[info] loading settings for project main from build.sbt ...\n",
    "[info] loading settings for project export from build.sbt ...\n",
    "[info] set current project to reach-exe (in build file:/scratch/reach/)\n",
    "[warn] there's a key that's not used by any other settings/tasks:\n",
    "[warn]  \n",
    "[warn] * root / releaseProcess\n",
    "[warn]   +- /scratch/reach/build.sbt:105\n",
    "[warn]  \n",
    "[warn] note: a setting might still be used by a command; to exclude a key from this `lintUnused` check\n",
    "[warn] either append it to `Global / excludeLintKeys` or call .withRank(KeyRanks.Invisible) on the key\n",
    "[info] running org.clulab.reach.RunReachCLI \n",
    "09:50:18.028 [run-main-0] INFO  org.clulab.reach.RunReachCLI$ - ReachCLI begins...\n",
    "09:50:18.040 [run-main-0] INFO  org.clulab.reach.RunReachCLI$ - Creating output directory: /scratch/reach/output\n",
    "09:50:18.072 [run-main-0] INFO  org.clulab.reach.ReachCLI - Initializing Reach ...\n",
    "09:50:18.545 [scala-execution-context-global-97] INFO  org.clulab.reach.ReachCLI - Sun Nov 29 09:50:18 MST 2020: Starting PMC2376060\n",
    "09:50:18.548 [scala-execution-context-global-95] INFO  org.clulab.reach.ReachCLI - Sun Nov 29 09:50:18 MST 2020: Starting PMC2376166\n",
    "09:50:18.556 [scala-execution-context-global-99] INFO  org.clulab.reach.ReachCLI - Sun Nov 29 09:50:18 MST 2020: Starting PMC2376115\n",
    "09:50:18.548 [scala-execution-context-global-96] INFO  org.clulab.reach.ReachCLI - Sun Nov 29 09:50:18 MST 2020: Starting PMC2376165\n",
    "09:50:18.548 [scala-execution-context-global-100] INFO  org.clulab.reach.ReachCLI - Sun Nov 29 09:50:18 MST 2020: Starting PMC2376076\n",
    "09:50:18.563 [scala-execution-context-global-98] INFO  org.clulab.reach.ReachCLI - Sun Nov 29 09:50:18 MST 2020: Starting PMC2376939\n",
    "09:50:18.566 [scala-execution-context-global-101] INFO  org.clulab.reach.ReachCLI - Sun Nov 29 09:50:18 MST 2020: Starting PMC2376094\n",
    "09:50:18.560 [scala-execution-context-global-94] INFO  org.clulab.reach.ReachCLI - Sun Nov 29 09:50:18 MST 2020: Starting PMC2376178\n",
    "[dynet] random seed: 720854548\n",
    "[dynet] allocating memory: 512,512,512,512MB\n",
    "[dynet] memory allocation done.\n",
    "09:50:21.180 [scala-execution-context-global-96] INFO  o.c.p.m.DeepLearningPolarityClassifier - Loading saved model SavedLSTM_WideBound_u_tag ...\n",
    "09:50:22.092 [scala-execution-context-global-96] INFO  o.c.p.m.DeepLearningPolarityClassifier - Loading model finished!\n",
    "09:51:10.596 [scala-execution-context-global-96] INFO  e.s.nlp.pipeline.StanfordCoreNLP - Adding annotator pos\n",
    "09:51:11.461 [scala-execution-context-global-96] INFO  e.s.nlp.tagger.maxent.MaxentTagger - Loading POS tagger from edu/stanford/nlp/models/pos-tagger/english-left3words/english-left3words-distsim.tagger ... done [0.8 sec].\n",
    "09:51:12.629 [scala-execution-context-global-96] INFO  e.s.nlp.pipeline.StanfordCoreNLP - Adding annotator lemma\n",
    "09:51:12.770 [scala-execution-context-global-96] INFO  org.clulab.sequences.LexiconNER - Beginning to load the KBs for the rule-based NER...\n",
    "09:51:12.988 [scala-execution-context-global-96] INFO  org.clulab.sequences.LexiconNER - Loaded OVERRIDE matchers for all labels.  The number of entries added to the first layer was 746.\n",
    "09:51:14.975 [scala-execution-context-global-96] INFO  org.clulab.sequences.LexiconNER - Loaded matcher for label Gene_or_gene_product. The number of entries added to the first layer was 86070.\n",
    "09:51:15.766 [scala-execution-context-global-96] INFO  org.clulab.sequences.LexiconNER - Loaded matcher for label Family. The number of entries added to the first layer was 22434.\n",
    "09:51:15.803 [scala-execution-context-global-96] INFO  org.clulab.sequences.LexiconNER - Loaded matcher for label Cellular_component. The number of entries added to the first layer was 579.\n",
    "09:51:22.065 [scala-execution-context-global-96] INFO  org.clulab.sequences.LexiconNER - Loaded matcher for label Simple_chemical. The number of entries added to the first layer was 102189.\n",
    "09:51:22.167 [scala-execution-context-global-96] INFO  org.clulab.sequences.LexiconNER - Loaded matcher for label Site. The number of entries added to the first layer was 518.\n",
    "09:51:24.393 [scala-execution-context-global-96] INFO  org.clulab.sequences.LexiconNER - Loaded matcher for label BioProcess. The number of entries added to the first layer was 2244.\n",
    "09:51:24.658 [scala-execution-context-global-96] INFO  org.clulab.sequences.LexiconNER - Loaded matcher for label Disease. The number of entries added to the first layer was 7121.\n",
    "09:51:24.674 [scala-execution-context-global-96] INFO  org.clulab.sequences.LexiconNER - Loaded matcher for label Species. The number of entries added to the first layer was 976.\n",
    "09:51:25.201 [scala-execution-context-global-96] INFO  org.clulab.sequences.LexiconNER - Loaded matcher for label CellLine. The number of entries added to the first layer was 66032.\n",
    "09:51:25.217 [scala-execution-context-global-96] INFO  org.clulab.sequences.LexiconNER - Loaded matcher for label TissueType. The number of entries added to the first layer was 372.\n",
    "09:51:25.279 [scala-execution-context-global-96] INFO  org.clulab.sequences.LexiconNER - Loaded matcher for label CellType. The number of entries added to the first layer was 887.\n",
    "09:51:25.621 [scala-execution-context-global-96] INFO  org.clulab.sequences.LexiconNER - Loaded matcher for label Organ. The number of entries added to the first layer was 3863.\n",
    "09:51:25.621 [scala-execution-context-global-96] INFO  org.clulab.sequences.LexiconNER - KB loading completed.\n",
    "09:51:27.882 [scala-execution-context-global-96] INFO  e.s.nlp.sequences.SeqClassifierFlags - macro=true\n",
    "09:51:27.883 [scala-execution-context-global-96] INFO  e.s.nlp.sequences.SeqClassifierFlags - featureFactory=org.clulab.processors.bionlp.ner.BioNERFactory\n",
    "09:51:29.789 [scala-execution-context-global-96] INFO  e.s.n.ie.AbstractSequenceClassifier - Loading classifier from org/clulab/processors/bionlp/ner/bioner.dat ... done [1.9 sec].\n",
    "09:51:34.659 [scala-execution-context-global-97] INFO  e.s.n.p.lexparser.LexicalizedParser - Loading parser from serialized file edu/stanford/nlp/models/lexparser/englishPCFG.ser.gz ... done [3.4 sec].\n",
    "09:52:25.333 [scala-execution-context-global-99] INFO  e.s.nlp.sequences.SeqClassifierFlags - macro=true\n",
    "09:52:25.334 [scala-execution-context-global-99] INFO  e.s.nlp.sequences.SeqClassifierFlags - featureCountThresh=10\n",
    "09:52:25.335 [scala-execution-context-global-99] INFO  e.s.nlp.sequences.SeqClassifierFlags - featureFactory=org.clulab.processors.corenlp.chunker.ChunkingFeatureFactory\n",
    "09:53:09.063 [scala-execution-context-global-96] INFO  org.clulab.reach.ReachCLI - Sun Nov 29 09:53:09 MST 2020: Finished PMC2376165 successfully (170 seconds)\n",
    "09:53:09.064 [scala-execution-context-global-96] INFO  org.clulab.reach.ReachCLI - Sun Nov 29 09:53:09 MST 2020: PapersDone: 1, ElapsedTime: 171, Average: 170\n",
    "09:53:09.150 [scala-execution-context-global-98] INFO  org.clulab.reach.ReachCLI - Sun Nov 29 09:53:09 MST 2020: Finished PMC2376939 successfully (170 seconds)\n",
    "09:53:09.150 [scala-execution-context-global-98] INFO  org.clulab.reach.ReachCLI - Sun Nov 29 09:53:09 MST 2020: PapersDone: 2, ElapsedTime: 171, Average: 170\n",
    "09:53:09.151 [scala-execution-context-global-98] INFO  org.clulab.reach.ReachCLI - Sun Nov 29 09:53:09 MST 2020: Starting PMC2376351\n",
    "09:53:12.084 [scala-execution-context-global-99] INFO  org.clulab.reach.ReachCLI - Sun Nov 29 09:53:12 MST 2020: Finished PMC2376115 successfully (173 seconds)\n",
    "09:53:12.085 [scala-execution-context-global-99] INFO  org.clulab.reach.ReachCLI - Sun Nov 29 09:53:12 MST 2020: PapersDone: 3, ElapsedTime: 174, Average: 171\n",
    "09:53:12.086 [scala-execution-context-global-99] INFO  org.clulab.reach.ReachCLI - Sun Nov 29 09:53:12 MST 2020: Starting PMC2376921\n",
    "09:53:16.985 [scala-execution-context-global-94] INFO  org.clulab.reach.ReachCLI - Sun Nov 29 09:53:16 MST 2020: Finished PMC2376178 successfully (178 seconds)\n",
    "09:53:16.986 [scala-execution-context-global-94] INFO  org.clulab.reach.ReachCLI - Sun Nov 29 09:53:16 MST 2020: PapersDone: 4, ElapsedTime: 178, Average: 172\n",
    "09:53:41.726 [scala-execution-context-global-99] INFO  org.clulab.reach.ReachCLI - Sun Nov 29 09:53:41 MST 2020: Finished PMC2376921 successfully (29 seconds)\n",
    "09:53:41.726 [scala-execution-context-global-99] INFO  org.clulab.reach.ReachCLI - Sun Nov 29 09:53:41 MST 2020: PapersDone: 5, ElapsedTime: 203, Average: 144\n",
    "09:53:41.727 [scala-execution-context-global-99] INFO  org.clulab.reach.ReachCLI - Sun Nov 29 09:53:41 MST 2020: Starting PMC2376335\n",
    "09:53:59.376 [scala-execution-context-global-98] INFO  org.clulab.reach.ReachCLI - Sun Nov 29 09:53:59 MST 2020: Finished PMC2376351 successfully (50 seconds)\n",
    "09:53:59.377 [scala-execution-context-global-98] INFO  org.clulab.reach.ReachCLI - Sun Nov 29 09:53:59 MST 2020: PapersDone: 6, ElapsedTime: 221, Average: 128\n",
    "09:53:59.378 [scala-execution-context-global-98] INFO  org.clulab.reach.ReachCLI - Sun Nov 29 09:53:59 MST 2020: Starting PMC2376180\n",
    "09:54:39.206 [scala-execution-context-global-99] INFO  org.clulab.reach.ReachCLI - Sun Nov 29 09:54:39 MST 2020: Finished PMC2376335 successfully (57 seconds)\n",
    "09:54:39.206 [scala-execution-context-global-99] INFO  org.clulab.reach.ReachCLI - Sun Nov 29 09:54:39 MST 2020: PapersDone: 7, ElapsedTime: 261, Average: 118\n",
    "09:54:39.207 [scala-execution-context-global-99] INFO  org.clulab.reach.ReachCLI - Sun Nov 29 09:54:39 MST 2020: Starting PMC2376107\n",
    "09:55:01.449 [scala-execution-context-global-97] INFO  org.clulab.reach.ReachCLI - Sun Nov 29 09:55:01 MST 2020: Finished PMC2376060 successfully (282 seconds)\n",
    "09:55:01.450 [scala-execution-context-global-97] INFO  org.clulab.reach.ReachCLI - Sun Nov 29 09:55:01 MST 2020: PapersDone: 8, ElapsedTime: 283, Average: 138\n",
    "09:55:15.167 [scala-execution-context-global-98] INFO  org.clulab.reach.ReachCLI - Sun Nov 29 09:55:15 MST 2020: Finished PMC2376180 successfully (75 seconds)\n",
    "09:55:15.167 [scala-execution-context-global-98] INFO  org.clulab.reach.ReachCLI - Sun Nov 29 09:55:15 MST 2020: PapersDone: 9, ElapsedTime: 297, Average: 131\n",
    "09:55:26.299 [scala-execution-context-global-99] INFO  org.clulab.reach.ReachCLI - Sun Nov 29 09:55:26 MST 2020: Finished PMC2376107 successfully (47 seconds)\n",
    "09:55:26.299 [scala-execution-context-global-99] INFO  org.clulab.reach.ReachCLI - Sun Nov 29 09:55:26 MST 2020: PapersDone: 10, ElapsedTime: 308, Average: 123\n",
    "09:55:27.959 [scala-execution-context-global-100] INFO  org.clulab.reach.ReachCLI - Sun Nov 29 09:55:27 MST 2020: Finished PMC2376076 successfully (309 seconds)\n",
    "09:55:27.960 [scala-execution-context-global-100] INFO  org.clulab.reach.ReachCLI - Sun Nov 29 09:55:27 MST 2020: PapersDone: 11, ElapsedTime: 309, Average: 140\n",
    "09:57:34.435 [scala-execution-context-global-95] INFO  org.clulab.reach.ReachCLI - Sun Nov 29 09:57:34 MST 2020: Finished PMC2376166 successfully (435 seconds)\n",
    "09:57:34.436 [scala-execution-context-global-95] INFO  org.clulab.reach.ReachCLI - Sun Nov 29 09:57:34 MST 2020: PapersDone: 12, ElapsedTime: 436, Average: 164\n",
    "10:13:30.487 [scala-execution-context-global-101] INFO  org.clulab.reach.ReachCLI - Sun Nov 29 10:13:30 MST 2020: Finished PMC2376094 successfully (1391 seconds)\n",
    "10:13:30.488 [scala-execution-context-global-101] INFO  org.clulab.reach.ReachCLI - Sun Nov 29 10:13:30 MST 2020: PapersDone: 13, ElapsedTime: 1392, Average: 258\n",
    "[warn] 9.698 seconds of the last 10 seconds were spent in garbage collection. You may want to increase the project heap size using `-Xmx` or try a different gc algorithm, e.g. `-XX:+UseG1GC`, for better performance.\n",
    "[success] Total time: 1437 s (23:57), completed Nov 29, 2020 10:13:49 AM"
   ]
  },
  {
   "cell_type": "markdown",
   "metadata": {},
   "source": [
    "ls output/"
   ]
  },
  {
   "cell_type": "code",
   "execution_count": null,
   "metadata": {},
   "outputs": [],
   "source": [
    "PMC2376060.uaz.entities.json   PMC2376094.uaz.events.json     PMC2376115.uaz.sentences.json  PMC2376178.uaz.entities.json   PMC2376335.uaz.events.json     PMC2376921.uaz.sentences.json\n",
    "PMC2376060.uaz.events.json     PMC2376094.uaz.sentences.json  PMC2376165.uaz.entities.json   PMC2376178.uaz.events.json     PMC2376335.uaz.sentences.json  PMC2376939.uaz.entities.json\n",
    "PMC2376060.uaz.sentences.json  PMC2376107.uaz.entities.json   PMC2376165.uaz.events.json     PMC2376178.uaz.sentences.json  PMC2376351.uaz.entities.json   PMC2376939.uaz.events.json\n",
    "PMC2376076.uaz.entities.json   PMC2376107.uaz.events.json     PMC2376165.uaz.sentences.json  PMC2376180.uaz.entities.json   PMC2376351.uaz.events.json     PMC2376939.uaz.sentences.json\n",
    "PMC2376076.uaz.events.json     PMC2376107.uaz.sentences.json  PMC2376166.uaz.entities.json   PMC2376180.uaz.events.json     PMC2376351.uaz.sentences.json  restart.log\n",
    "PMC2376076.uaz.sentences.json  PMC2376115.uaz.entities.json   PMC2376166.uaz.events.json     PMC2376180.uaz.sentences.json  PMC2376921.uaz.entities.json\n",
    "PMC2376094.uaz.entities.json   PMC2376115.uaz.events.json     PMC2376166.uaz.sentences.json  PMC2376335.uaz.entities.json   PMC2376921.uaz.events.json"
   ]
  },
  {
   "cell_type": "markdown",
   "metadata": {},
   "source": []
  },
  {
   "cell_type": "markdown",
   "metadata": {},
   "source": [
    "### Modify `application.conf` with rootfir path for HPC and Build FAT JAR"
   ]
  },
  {
   "cell_type": "markdown",
   "metadata": {},
   "source": [
    "nano main/src/main/resources/application.conf"
   ]
  },
  {
   "cell_type": "markdown",
   "metadata": {},
   "source": [
    "rootDir = /home/u15/sateeshp/reach\n",
    "\n",
    "threadLimit = 21"
   ]
  },
  {
   "cell_type": "markdown",
   "metadata": {},
   "source": [
    "sbt assembly"
   ]
  },
  {
   "cell_type": "code",
   "execution_count": null,
   "metadata": {},
   "outputs": [],
   "source": [
    "[info] welcome to sbt 1.4.0 (Private Build Java 1.8.0_275)\n",
    "[info] loading settings for project reach-build from plugins.sbt ...\n",
    "[info] loading project definition from /scratch/reach/project\n",
    "[info] loading settings for project root from build.sbt,version.sbt ...\n",
    "[info] loading settings for project processors from build.sbt ...\n",
    "[info] loading settings for project main from build.sbt ...\n",
    "[info] loading settings for project export from build.sbt ...\n",
    "[info] set current project to reach-exe (in build file:/scratch/reach/)\n",
    "[warn] there's a key that's not used by any other settings/tasks:\n",
    "[warn]  \n",
    "[warn] * root / releaseProcess\n",
    "[warn]   +- /scratch/reach/build.sbt:105\n",
    "[warn]  \n",
    "[warn] note: a setting might still be used by a command; to exclude a key from this `lintUnused` check\n",
    "[warn] either append it to `Global / excludeLintKeys` or call .withRank(KeyRanks.Invisible) on the key\n",
    "[info] Strategy 'concat' was applied to a file (Run the task at debug level to see details)\n",
    "[info] Strategy 'deduplicate' was applied to 139 files (Run the task at debug level to see details)\n",
    "[info] Strategy 'discard' was applied to 65 files (Run the task at debug level to see details)\n",
    "[info] Strategy 'filterDistinctLines' was applied to 2 files (Run the task at debug level to see details)\n",
    "[success] Total time: 317 s (05:17), completed Nov 29, 2020 10:24:17 AM"
   ]
  },
  {
   "cell_type": "code",
   "execution_count": null,
   "metadata": {},
   "outputs": [],
   "source": [
    "ls -lh target/scala-2.12/"
   ]
  },
  {
   "cell_type": "code",
   "execution_count": null,
   "metadata": {},
   "outputs": [],
   "source": [
    "total 1.8G\n",
    "drwxr-xr-x 3 sateeshp iplant-everyone 4.0K Nov  8 13:04 classes\n",
    "drwxr-xr-x 3 sateeshp iplant-everyone 4.0K Nov 28 11:19 project\n",
    "-rw-r--r-- 1 sateeshp iplant-everyone 1.8G Nov 29 10:24 reach-1.6.2-SNAPSHOT-FAT.jar"
   ]
  },
  {
   "cell_type": "markdown",
   "metadata": {},
   "source": [
    "Upload FAT jar to cyverse datastore"
   ]
  },
  {
   "cell_type": "markdown",
   "metadata": {},
   "source": [
    "imkdir reach_pumed\n",
    "icd reach_pumed\n",
    "iput -K -r reach-1.6.2-SNAPSHOT-FAT.jar"
   ]
  },
  {
   "cell_type": "markdown",
   "metadata": {},
   "source": []
  },
  {
   "cell_type": "markdown",
   "metadata": {},
   "source": [
    "# Part-4 : Running FAT jar on UA HPC"
   ]
  },
  {
   "cell_type": "markdown",
   "metadata": {},
   "source": []
  },
  {
   "cell_type": "markdown",
   "metadata": {},
   "source": [
    "Login to UA HPC"
   ]
  },
  {
   "cell_type": "markdown",
   "metadata": {},
   "source": []
  },
  {
   "cell_type": "code",
   "execution_count": null,
   "metadata": {},
   "outputs": [],
   "source": [
    "This is a bastion host used to access the rest of the RT/HPC environment.\n",
    "\n",
    "Shortcut commands to access each resource\n",
    "-----------------------------------------\n",
    "Ocelote:\n",
    "$ ocelote\n",
    "\n",
    "El Gato:\n",
    "$ elgato\n",
    "\n",
    "Puma:\n",
    "$ puma"
   ]
  },
  {
   "cell_type": "markdown",
   "metadata": {},
   "source": [
    "### `java/8` module is available only in Ocelote"
   ]
  },
  {
   "cell_type": "code",
   "execution_count": null,
   "metadata": {},
   "outputs": [],
   "source": [
    "ocelote"
   ]
  },
  {
   "cell_type": "markdown",
   "metadata": {},
   "source": [
    "git clone reach repo"
   ]
  },
  {
   "cell_type": "code",
   "execution_count": null,
   "metadata": {},
   "outputs": [],
   "source": [
    "git clone https://github.com/clulab/reach.git\n",
    "cd reach    "
   ]
  },
  {
   "cell_type": "markdown",
   "metadata": {},
   "source": [
    "modify application.conf with rootdir path & threads"
   ]
  },
  {
   "cell_type": "markdown",
   "metadata": {},
   "source": [
    "`nano main/src/main/resources/application.conf`"
   ]
  },
  {
   "cell_type": "code",
   "execution_count": null,
   "metadata": {},
   "outputs": [],
   "source": [
    "rootDir = /home/u15/sateeshp/reach\n",
    "\n",
    "threadLimit = 21"
   ]
  },
  {
   "cell_type": "markdown",
   "metadata": {},
   "source": [
    "Make papers folder in the reach directory & copy some nxml's into it"
   ]
  },
  {
   "cell_type": "code",
   "execution_count": null,
   "metadata": {},
   "outputs": [],
   "source": [
    "mkdir papers"
   ]
  },
  {
   "cell_type": "markdown",
   "metadata": {},
   "source": [
    "Download reach FAT jar from cyverse datastore"
   ]
  },
  {
   "cell_type": "code",
   "execution_count": null,
   "metadata": {},
   "outputs": [],
   "source": [
    "iget -K -r reach-1.6.2-SNAPSHOT-FAT.jar"
   ]
  },
  {
   "cell_type": "markdown",
   "metadata": {},
   "source": [
    "### Launch Interactive node"
   ]
  },
  {
   "cell_type": "code",
   "execution_count": null,
   "metadata": {},
   "outputs": [],
   "source": [
    "qsub -I -N jobname -W group_list=guangyao -q standard -l select=1:ncpus=28:mem=168gb -l walltime=0:60:0"
   ]
  },
  {
   "cell_type": "code",
   "execution_count": null,
   "metadata": {},
   "outputs": [],
   "source": [
    "module load java/8/1.8"
   ]
  },
  {
   "cell_type": "code",
   "execution_count": null,
   "metadata": {},
   "outputs": [],
   "source": [
    "java -jar reach-1.6.2-SNAPSHOT-FAT.jar"
   ]
  },
  {
   "cell_type": "code",
   "execution_count": null,
   "metadata": {},
   "outputs": [],
   "source": [
    "Suppressed: java.lang.NoClassDefFoundError: Could not initialize class edu.cmu.dynet.internal.dynet_swigJNI\n",
    "\t\t\t... 35 more\n",
    "\t\t\tSuppressed: java.lang.UnsatisfiedLinkError: /tmp/dynet4094567225789306381.dll: /lib64/libc.so.6: version `GLIBC_2.14' not found (required by /tmp/dynet4094567225789306381.dll)\n"
   ]
  },
  {
   "cell_type": "code",
   "execution_count": null,
   "metadata": {},
   "outputs": [],
   "source": []
  },
  {
   "cell_type": "markdown",
   "metadata": {},
   "source": [
    "<div class=\"alert alert-block alert-danger\">\n",
    "<b>Attention:</b> El Gato & Puma compute nodes have no `java/8/` or `sbt` modules availale\n",
    "</div>\n"
   ]
  },
  {
   "cell_type": "code",
   "execution_count": null,
   "metadata": {},
   "outputs": [],
   "source": []
  },
  {
   "cell_type": "code",
   "execution_count": null,
   "metadata": {},
   "outputs": [],
   "source": []
  },
  {
   "cell_type": "markdown",
   "metadata": {},
   "source": [
    "# Part-4 : SBT Assembly on UA HPC - Failed\n",
    "\n",
    "### sbt 1.0.3"
   ]
  },
  {
   "cell_type": "markdown",
   "metadata": {},
   "source": [
    "Login to UA HPC"
   ]
  },
  {
   "cell_type": "markdown",
   "metadata": {},
   "source": []
  },
  {
   "cell_type": "code",
   "execution_count": null,
   "metadata": {},
   "outputs": [],
   "source": [
    "This is a bastion host used to access the rest of the RT/HPC environment.\n",
    "\n",
    "Shortcut commands to access each resource\n",
    "-----------------------------------------\n",
    "Ocelote:\n",
    "$ ocelote\n",
    "\n",
    "El Gato:\n",
    "$ elgato\n",
    "\n",
    "Puma:\n",
    "$ puma"
   ]
  },
  {
   "cell_type": "markdown",
   "metadata": {},
   "source": [
    "### `java/8` module is available only in Ocelote"
   ]
  },
  {
   "cell_type": "code",
   "execution_count": null,
   "metadata": {},
   "outputs": [],
   "source": [
    "ocelote"
   ]
  },
  {
   "cell_type": "markdown",
   "metadata": {},
   "source": [
    "git clone reach repo"
   ]
  },
  {
   "cell_type": "code",
   "execution_count": null,
   "metadata": {},
   "outputs": [],
   "source": [
    "git clone https://github.com/clulab/reach.git\n",
    "cd reach    "
   ]
  },
  {
   "cell_type": "markdown",
   "metadata": {},
   "source": [
    "modify application.conf with rootdir path & threads"
   ]
  },
  {
   "cell_type": "markdown",
   "metadata": {},
   "source": [
    "`nano main/src/main/resources/application.conf`"
   ]
  },
  {
   "cell_type": "code",
   "execution_count": null,
   "metadata": {},
   "outputs": [],
   "source": [
    "rootDir = ${user.home}/reach\n",
    "\n",
    "threadLimit = 21"
   ]
  },
  {
   "cell_type": "markdown",
   "metadata": {},
   "source": [
    "Make papers folder in the reach directory & copy some nxml's into it"
   ]
  },
  {
   "cell_type": "code",
   "execution_count": null,
   "metadata": {},
   "outputs": [],
   "source": [
    "mkdir papers"
   ]
  },
  {
   "cell_type": "markdown",
   "metadata": {},
   "source": [
    "### Launch an interactive node as follows"
   ]
  },
  {
   "cell_type": "code",
   "execution_count": null,
   "metadata": {},
   "outputs": [],
   "source": [
    "qsub -I -N jobname -W group_list=guangyao -q standard -l select=1:ncpus=28:mem=168gb -l walltime=0:60:0"
   ]
  },
  {
   "cell_type": "markdown",
   "metadata": {},
   "source": [
    "module load java/8/1.8\n",
    "module load sbt/1/1.0.3"
   ]
  },
  {
   "cell_type": "code",
   "execution_count": null,
   "metadata": {},
   "outputs": [],
   "source": [
    "java -version\n",
    "openjdk version \"1.8.0_265\"\n",
    "OpenJDK Runtime Environment (build 1.8.0_265-b01)\n",
    "OpenJDK 64-Bit Server VM (build 25.265-b01, mixed mode)\n",
    "\n",
    "sbt sbtVersion\n",
    "[info] 1.0.3"
   ]
  },
  {
   "cell_type": "code",
   "execution_count": null,
   "metadata": {},
   "outputs": [],
   "source": [
    "sbt 'runMain org.clulab.processors.server.ProcessorServer'"
   ]
  },
  {
   "cell_type": "markdown",
   "metadata": {},
   "source": [
    "[sateeshp@i11n2 reach]$ sbt 'runMain org.clulab.processors.server.ProcessorServer'\n",
    "\n",
    "[info] welcome to sbt 1.4.0 (Oracle Corporation Java 1.8.0_265)\n",
    "[info] loading settings for project reach-build from plugins.sbt ...\n",
    "[info] loading project definition from /home/u15/sateeshp/reach/project\n",
    "[warn] There may be incompatibilities among your library dependencies; run 'evicted' to see detailed eviction warnings.\n",
    "[info] loading settings for project root from build.sbt,version.sbt ...\n",
    "[info] loading settings for project processors from build.sbt ...\n",
    "[info] loading settings for project main from build.sbt ...\n",
    "[info] loading settings for project export from build.sbt ...\n",
    "[info] set current project to reach-exe (in build file:/home/u15/sateeshp/reach/)\n",
    "[warn] there's a key that's not used by any other settings/tasks:\n",
    "[warn]  \n",
    "[warn] * root / releaseProcess\n",
    "[warn]   +- /home/u15/sateeshp/reach/build.sbt:105\n",
    "[warn]  \n",
    "[warn] note: a setting might still be used by a command; to exclude a key from this `lintUnused` check\n",
    "[warn] either append it to `Global / excludeLintKeys` or call .withRank(KeyRanks.Invisible) on the key\n",
    "[warn] There may be incompatibilities among your library dependencies; run 'evicted' to see detailed eviction warnings.\n",
    "[warn] There may be incompatibilities among your library dependencies; run 'evicted' to see detailed eviction warnings.\n",
    "[warn] There may be incompatibilities among your library dependencies; run 'evicted' to see detailed eviction warnings.\n",
    "[warn] There may be incompatibilities among your library dependencies; run 'evicted' to see detailed eviction warnings.\n",
    "[info] compiling 16 Scala sources and 1 Java source to /home/u15/sateeshp/reach/processors/target/scala-2.12/classes ...\n",
    "[info] compiling 92 Scala sources and 1 Java source to /home/u15/sateeshp/reach/main/target/scala-2.12/classes ...\n",
    "[warn] /home/u15/sateeshp/reach/main/src/main/scala/org/clulab/reach/brat/Brat.scala:247:29: match may not be exhaustive.\n",
    "[warn] It would fail on the following input: (_, _)\n",
    "[warn]     tbs.zipWithIndex.foreach{\n",
    "[warn]                             ^\n",
    "[warn] /home/u15/sateeshp/reach/main/src/main/scala/org/clulab/reach/mentions/serialization/json/package.scala:202:27: match may not be exhaustive.\n",
    "[warn] It would fail on the following inputs: CHEMtrigger(_), DNtrigger(_), KDtrigger(_), KOtrigger(_), OEtrigger(_), UnassignedTrigger(_)\n",
    "[warn]     def jsonAST: JValue = mod match {\n",
    "[warn]                           ^\n",
    "[warn] /home/u15/sateeshp/reach/main/src/main/scala/org/clulab/reach/utils/PathFinder.scala:44:62: match may not be exhaustive.\n",
    "[warn] It would fail on the following inputs: (??, _, _), (_, ??, _), (_, _, _)\n",
    "[warn]           for (((n1, n2), edge) <- pairs zip edgePath) yield edge match {\n",
    "[warn]                                                              ^\n",
    "[warn] /home/u15/sateeshp/reach/main/src/main/scala/org/clulab/reach/PaperReader.scala:71:61: type ForkJoinPool in package forkjoin is deprecated (since 2.12.0): use java.util.concurrent.ForkJoinPool directly, instead of this alias\n",
    "[warn]       new ForkJoinTaskSupport(new scala.concurrent.forkjoin.ForkJoinPool(threadLimit))\n",
    "[warn]                                                             ^\n",
    "[warn] four warnings found\n",
    "[info] compiling 14 Scala sources to /home/u15/sateeshp/reach/export/target/scala-2.12/classes ...\n",
    "[info] compiling 2 Scala sources to /home/u15/sateeshp/reach/target/scala-2.12/classes ...\n",
    "[warn] /home/u15/sateeshp/reach/src/main/scala/org/clulab/reach/ReachCLI.scala:72:63: type ForkJoinPool in package forkjoin is deprecated (since 2.12.0): use java.util.concurrent.ForkJoinPool directly, instead of this alias\n",
    "[warn]         new ForkJoinTaskSupport(new scala.concurrent.forkjoin.ForkJoinPool(threadLimit.get))\n",
    "[warn]                                                               ^\n",
    "[warn] one warning found\n",
    "[info] running org.clulab.processors.server.ProcessorServer \n",
    "[error] (run-main-0) java.lang.ClassNotFoundException: org.clulab.processors.server.ProcessorServer\n",
    "[error] java.lang.ClassNotFoundException: org.clulab.processors.server.ProcessorServer\n",
    "[error] \tat java.net.URLClassLoader.findClass(URLClassLoader.java:382)\n",
    "[error] stack trace is suppressed; run last Compile / bgRunMain for the full output\n",
    "[error] Nonzero exit code: 1\n",
    "[error] (Compile / runMain) Nonzero exit code: 1\n",
    "[error] Total time: 74 s (01:14), completed Nov 29, 2020 9:43:21 AM"
   ]
  },
  {
   "cell_type": "code",
   "execution_count": null,
   "metadata": {},
   "outputs": [],
   "source": [
    "sbt 'runMain org.clulab.reach.RunReachCLI'"
   ]
  },
  {
   "cell_type": "markdown",
   "metadata": {},
   "source": [
    "[sateeshp@i11n2 reach]$ sbt 'runMain org.clulab.reach.RunReachCLI'\n",
    "[info] welcome to sbt 1.4.0 (Oracle Corporation Java 1.8.0_265)\n",
    "[info] loading settings for project reach-build from plugins.sbt ...\n",
    "[info] loading project definition from /home/u15/sateeshp/reach/project\n",
    "[info] loading settings for project root from build.sbt,version.sbt ...\n",
    "[info] loading settings for project processors from build.sbt ...\n",
    "[info] loading settings for project main from build.sbt ...\n",
    "[info] loading settings for project export from build.sbt ...\n",
    "[info] set current project to reach-exe (in build file:/home/u15/sateeshp/reach/)\n",
    "[warn] there's a key that's not used by any other settings/tasks:\n",
    "[warn]  \n",
    "[warn] * root / releaseProcess\n",
    "[warn]   +- /home/u15/sateeshp/reach/build.sbt:105\n",
    "[warn]  \n",
    "[warn] note: a setting might still be used by a command; to exclude a key from this `lintUnused` check\n",
    "[warn] either append it to `Global / excludeLintKeys` or call .withRank(KeyRanks.Invisible) on the key\n",
    "[info] running org.clulab.reach.RunReachCLI \n",
    "09:45:03.786 [run-main-0] INFO  org.clulab.reach.RunReachCLI$ - ReachCLI begins...\n",
    "09:45:03.791 [run-main-0] INFO  org.clulab.reach.RunReachCLI$ - Creating output directory: /home/u15/sateeshp/reach/output\n",
    "09:45:03.821 [run-main-0] INFO  org.clulab.reach.ReachCLI - Initializing Reach ...\n",
    "09:45:04.245 [scala-execution-context-global-166] INFO  org.clulab.reach.ReachCLI - Sun Nov 29 09:45:04 MST 2020: Starting PMC2376351\n",
    "09:45:04.247 [scala-execution-context-global-170] INFO  org.clulab.reach.ReachCLI - Sun Nov 29 09:45:04 MST 2020: Starting PMC2376921\n",
    "09:45:04.247 [scala-execution-context-global-172] INFO  org.clulab.reach.ReachCLI - Sun Nov 29 09:45:04 MST 2020: Starting PMC2376939\n",
    "09:45:04.247 [scala-execution-context-global-174] INFO  org.clulab.reach.ReachCLI - Sun Nov 29 09:45:04 MST 2020: Starting PMC2376115\n",
    "09:45:04.254 [scala-execution-context-global-177] INFO  org.clulab.reach.ReachCLI - Sun Nov 29 09:45:04 MST 2020: Starting PMC2376060\n",
    "09:45:04.247 [scala-execution-context-global-171] INFO  org.clulab.reach.ReachCLI - Sun Nov 29 09:45:04 MST 2020: Starting PMC2376076\n",
    "09:45:04.245 [scala-execution-context-global-167] INFO  org.clulab.reach.ReachCLI - Sun Nov 29 09:45:04 MST 2020: Starting PMC2376178\n",
    "09:45:04.245 [scala-execution-context-global-169] INFO  org.clulab.reach.ReachCLI - Sun Nov 29 09:45:04 MST 2020: Starting PMC2376335\n",
    "09:45:04.255 [scala-execution-context-global-178] INFO  org.clulab.reach.ReachCLI - Sun Nov 29 09:45:04 MST 2020: Starting PMC2376094\n",
    "09:45:04.254 [scala-execution-context-global-175] INFO  org.clulab.reach.ReachCLI - Sun Nov 29 09:45:04 MST 2020: Starting PMC2376180\n",
    "09:45:04.254 [scala-execution-context-global-168] INFO  org.clulab.reach.ReachCLI - Sun Nov 29 09:45:04 MST 2020: Starting PMC2376166\n",
    "09:45:04.253 [scala-execution-context-global-176] INFO  org.clulab.reach.ReachCLI - Sun Nov 29 09:45:04 MST 2020: Starting PMC2376107\n",
    "09:45:04.253 [scala-execution-context-global-173] INFO  org.clulab.reach.ReachCLI - Sun Nov 29 09:45:04 MST 2020: Starting PMC2376165\n",
    "[error] (run-main-0) java.lang.NoClassDefFoundError: Could not initialize class edu.cmu.dynet.internal.dynet_swigJNI\n",
    "[error] java.lang.NoClassDefFoundError: Could not initialize class edu.cmu.dynet.internal.dynet_swigJNI\n",
    "[error] \tat edu.cmu.dynet.internal.DynetParams.<init>(DynetParams.java:87)\n",
    "[error] \tat edu.cmu.dynet.Initialize$.initialize(Initialize.scala:14)\n",
    "[error] \tat org.clulab.polarity.ml.DeepLearningPolarityClassifier.initializeDyNet(DeepLearningPolarityClassifier.scala:747)\n",
    "[error] \tat org.clulab.polarity.ml.DeepLearningPolarityClassifier.<init>(DeepLearningPolarityClassifier.scala:74)\n",
    "[error] \tat org.clulab.polarity.PolarityEngine$.apply(PolarityEngine.scala:96)\n",
    "[error] \tat org.clulab.polarity.PolarityEngine$.engineFromConfig(PolarityEngine.scala:112)\n",
    "[error] \tat org.clulab.reach.darpa.DarpaActions.<init>(DarpaActions.scala:178)\n",
    "[error] \tat org.clulab.reach.ReachSystem.<init>(ReachSystem.scala:36)\n",
    "[error] \tat org.clulab.reach.PaperReader$.reachSystem$lzycompute(PaperReader.scala:45)\n",
    "[error] \tat org.clulab.reach.PaperReader$.reachSystem(PaperReader.scala:43)\n",
    "[error] \tat org.clulab.reach.PaperReader$.getMentionsFromEntry(PaperReader.scala:142)\n",
    "[error] \tat org.clulab.reach.ReachCLI.processPaper(ReachCLI.scala:124)\n",
    "[error] \tat org.clulab.reach.ReachCLI.$anonfun$processPapers$3(ReachCLI.scala:82)\n",
    "[error] \tat org.clulab.reach.ReachCLI.$anonfun$processPapers$3$adapted(ReachCLI.scala:76)\n",
    "[error] \tat scala.collection.parallel.AugmentedIterableIterator.map2combiner(RemainsIterator.scala:116)\n",
    "[error] \tat scala.collection.parallel.AugmentedIterableIterator.map2combiner$(RemainsIterator.scala:113)\n",
    "[error] \tat scala.collection.parallel.immutable.ParVector$ParVectorIterator.map2combiner(ParVector.scala:66)\n",
    "[error] \tat scala.collection.parallel.ParIterableLike$Map.leaf(ParIterableLike.scala:1056)\n",
    "[error] \tat scala.collection.parallel.Task.$anonfun$tryLeaf$1(Tasks.scala:53)\n",
    "[error] \tat scala.runtime.java8.JFunction0$mcV$sp.apply(JFunction0$mcV$sp.java:23)\n",
    "[error] \tat scala.util.control.Breaks$$anon$1.catchBreak(Breaks.scala:67)\n",
    "[error] \tat scala.collection.parallel.Task.tryLeaf(Tasks.scala:56)\n",
    "[error] \tat scala.collection.parallel.Task.tryLeaf$(Tasks.scala:50)\n",
    "[error] \tat scala.collection.parallel.ParIterableLike$Map.tryLeaf(ParIterableLike.scala:1053)\n",
    "[error] \tat scala.collection.parallel.AdaptiveWorkStealingTasks$WrappedTask.internal(Tasks.scala:160)\n",
    "[error] \tat scala.collection.parallel.AdaptiveWorkStealingTasks$WrappedTask.internal$(Tasks.scala:157)\n",
    "[error] \tat scala.collection.parallel.AdaptiveWorkStealingForkJoinTasks$WrappedTask.internal(Tasks.scala:440)\n",
    "[error] \tat scala.collection.parallel.AdaptiveWorkStealingTasks$WrappedTask.compute(Tasks.scala:150)\n",
    "[error] \tat scala.collection.parallel.AdaptiveWorkStealingTasks$WrappedTask.compute$(Tasks.scala:149)\n",
    "[error] \tat scala.collection.parallel.AdaptiveWorkStealingForkJoinTasks$WrappedTask.compute(Tasks.scala:440)\n",
    "[error] \tat java.util.concurrent.RecursiveAction.exec(RecursiveAction.java:189)\n",
    "[error] \tat java.util.concurrent.ForkJoinTask.doExec(ForkJoinTask.java:289)\n",
    "[error] \tat java.util.concurrent.ForkJoinTask.doJoin(ForkJoinTask.java:389)\n",
    "[error] \tat java.util.concurrent.ForkJoinTask.join(ForkJoinTask.java:719)\n",
    "[error] \tat scala.collection.parallel.ForkJoinTasks$WrappedTask.sync(Tasks.scala:379)\n",
    "[error] \tat scala.collection.parallel.ForkJoinTasks$WrappedTask.sync$(Tasks.scala:379)\n",
    "[error] \tat scala.collection.parallel.AdaptiveWorkStealingForkJoinTasks$WrappedTask.sync(Tasks.scala:440)\n",
    "[error] \tat scala.collection.parallel.ForkJoinTasks.executeAndWaitResult(Tasks.scala:423)\n",
    "[error] \tat scala.collection.parallel.ForkJoinTasks.executeAndWaitResult$(Tasks.scala:416)\n",
    "[error] \tat scala.collection.parallel.ForkJoinTaskSupport.executeAndWaitResult(TaskSupport.scala:60)\n",
    "[error] \tat scala.collection.parallel.ExecutionContextTasks.executeAndWaitResult(Tasks.scala:555)\n",
    "[error] \tat scala.collection.parallel.ExecutionContextTasks.executeAndWaitResult$(Tasks.scala:555)\n",
    "[error] \tat scala.collection.parallel.ExecutionContextTaskSupport.executeAndWaitResult(TaskSupport.scala:84)\n",
    "[error] \tat scala.collection.parallel.ParIterableLike$ResultMapping.leaf(ParIterableLike.scala:960)\n",
    "[error] \tat scala.collection.parallel.Task.$anonfun$tryLeaf$1(Tasks.scala:53)\n",
    "[error] \tat scala.runtime.java8.JFunction0$mcV$sp.apply(JFunction0$mcV$sp.java:23)\n",
    "[error] \tat scala.util.control.Breaks$$anon$1.catchBreak(Breaks.scala:67)\n",
    "[error] \tat scala.collection.parallel.Task.tryLeaf(Tasks.scala:56)\n",
    "[error] \tat scala.collection.parallel.Task.tryLeaf$(Tasks.scala:50)\n",
    "[error] \tat scala.collection.parallel.ParIterableLike$ResultMapping.tryLeaf(ParIterableLike.scala:955)\n",
    "[error] \tat scala.collection.parallel.AdaptiveWorkStealingTasks$WrappedTask.compute(Tasks.scala:153)\n",
    "[error] \tat scala.collection.parallel.AdaptiveWorkStealingTasks$WrappedTask.compute$(Tasks.scala:149)\n",
    "[error] \tat scala.collection.parallel.AdaptiveWorkStealingForkJoinTasks$WrappedTask.compute(Tasks.scala:440)\n",
    "[error] \tat java.util.concurrent.RecursiveAction.exec(RecursiveAction.java:189)\n",
    "[error] \tat java.util.concurrent.ForkJoinTask.doExec(ForkJoinTask.java:289)\n",
    "[error] \tat java.util.concurrent.ForkJoinPool$WorkQueue.runTask(ForkJoinPool.java:1056)\n",
    "[error] \tat java.util.concurrent.ForkJoinPool.runWorker(ForkJoinPool.java:1692)\n",
    "[error] \tat java.util.concurrent.ForkJoinWorkerThread.run(ForkJoinWorkerThread.java:175)\n",
    "[error] stack trace is suppressed; run last Compile / bgRunMain for the full output\n",
    "[error] Nonzero exit code: 1\n",
    "[error] (Compile / runMain) Nonzero exit code: 1\n",
    "[error] Total time: 27 s, completed Nov 29, 2020 9:45:05 AM"
   ]
  },
  {
   "cell_type": "markdown",
   "metadata": {},
   "source": []
  },
  {
   "cell_type": "markdown",
   "metadata": {},
   "source": []
  },
  {
   "cell_type": "markdown",
   "metadata": {},
   "source": []
  },
  {
   "cell_type": "markdown",
   "metadata": {},
   "source": []
  },
  {
   "cell_type": "markdown",
   "metadata": {},
   "source": []
  },
  {
   "cell_type": "markdown",
   "metadata": {},
   "source": []
  },
  {
   "cell_type": "markdown",
   "metadata": {},
   "source": []
  },
  {
   "cell_type": "markdown",
   "metadata": {},
   "source": []
  },
  {
   "cell_type": "markdown",
   "metadata": {},
   "source": []
  },
  {
   "cell_type": "markdown",
   "metadata": {},
   "source": []
  }
 ],
 "metadata": {
  "kernelspec": {
   "display_name": "Python 3",
   "language": "python",
   "name": "python3"
  },
  "language_info": {
   "codemirror_mode": {
    "name": "ipython",
    "version": 3
   },
   "file_extension": ".py",
   "mimetype": "text/x-python",
   "name": "python",
   "nbconvert_exporter": "python",
   "pygments_lexer": "ipython3",
   "version": "3.7.6"
  }
 },
 "nbformat": 4,
 "nbformat_minor": 4
}
